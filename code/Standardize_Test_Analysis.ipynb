{
 "cells": [
  {
   "cell_type": "markdown",
   "metadata": {},
   "source": [
    "<img src=\"http://imgur.com/1ZcRyrc.png\" style=\"float: left; margin: 20px; height: 55px\">\n",
    "\n",
    "# Project 1: Standardized Test Analysis"
   ]
  },
  {
   "cell_type": "markdown",
   "metadata": {},
   "source": [
    "**Name** : Kant Charoensedtasin (Gun)"
   ]
  },
  {
   "cell_type": "markdown",
   "metadata": {},
   "source": [
    "--- \n",
    "# Part 1\n",
    "\n",
    "Part 1 requires knowledge of basic Python.\n",
    "\n",
    "---"
   ]
  },
  {
   "cell_type": "markdown",
   "metadata": {},
   "source": [
    "## Problem Statement"
   ]
  },
  {
   "cell_type": "markdown",
   "metadata": {},
   "source": [
    "One of tutor school is planning to open new school after the covid-19 pandemic. Tutor school hires data scientist for analyze the ACT/SAT data. Since this is the first phase of the project, tutor school require data about SAT/ACT as much as possible. The purpose of the analysis is acquiring the information about SAT/ACT in 2017 - 2019 and student."
   ]
  },
  {
   "cell_type": "markdown",
   "metadata": {},
   "source": [
    "### Contents:\n",
    "- [Background](#Background)\n",
    "- [Data Import & Cleaning](#Data-Import-and-Cleaning)\n",
    "- [Exploratory Data Analysis](#Exploratory-Data-Analysis)\n",
    "- [Data Visualization](#Visualize-the-Data)\n",
    "- [Conclusions and Recommendations](#Conclusions-and-Recommendations)"
   ]
  },
  {
   "cell_type": "markdown",
   "metadata": {},
   "source": [
    "## Background"
   ]
  },
  {
   "cell_type": "markdown",
   "metadata": {},
   "source": [
    "The SAT and ACT are standardized tests that many colleges and universities in the United States require for their admissions process. This score is used along with other materials such as grade point average (GPA) and essay responses to determine whether or not a potential student will be accepted to the university.\n",
    "\n",
    "The SAT has two sections of the test: Evidence-Based Reading and Writing and Math ([*source*](https://www.princetonreview.com/college/sat-sections)). The ACT has 4 sections: English, Mathematics, Reading, and Science, with an additional optional writing section ([*source*](https://www.act.org/content/act/en/products-and-services/the-act/scores/understanding-your-scores.html)). They have different score ranges, which you can read more about on their websites or additional outside sources (a quick Google search will help you understand the scores for each test):\n",
    "* [SAT](https://collegereadiness.collegeboard.org/sat)\n",
    "* [ACT](https://www.act.org/content/act/en.html)\n",
    "\n",
    "Standardized tests have long been a controversial topic for students, administrators, and legislators. Since the 1940's, an increasing number of colleges have been using scores from sudents' performances on tests like the SAT and the ACT as a measure for college readiness and aptitude ([*source*](https://www.minotdailynews.com/news/local-news/2017/04/a-brief-history-of-the-sat-and-act/)). Supporters of these tests argue that these scores can be used as an objective measure to determine college admittance. Opponents of these tests claim that these tests are not accurate measures of students potential or ability and serve as an inequitable barrier to entry. Lately, more and more schools are opting to drop the SAT/ACT requirement for their Fall 2021 applications ([*read more about this here*](https://www.cnn.com/2020/04/14/us/coronavirus-colleges-sat-act-test-trnd/index.html))."
   ]
  },
  {
   "cell_type": "markdown",
   "metadata": {},
   "source": [
    "### Choose your Data\n",
    "\n",
    "There are 10 datasets included in the [`data`](./data/) folder for this project. You are required to pick **at least two** of these to complete your analysis. Feel free to use more than two if you would like, or add other relevant datasets you find online.\n",
    "\n",
    "* [`act_2017.csv`](./data/act_2017.csv): 2017 ACT Scores by State\n",
    "* [`act_2018.csv`](./data/act_2018.csv): 2018 ACT Scores by State\n",
    "* [`act_2019.csv`](./data/act_2019.csv): 2019 ACT Scores by State\n",
    "* [`act_2019_ca.csv`](./data/act_2019_ca.csv): 2019 ACT Scores in California by School\n",
    "* [`sat_2017.csv`](./data/sat_2017.csv): 2017 SAT Scores by State\n",
    "* [`sat_2018.csv`](./data/sat_2018.csv): 2018 SAT Scores by State\n",
    "* [`sat_2019.csv`](./data/sat_2019.csv): 2019 SAT Scores by State\n",
    "* [`sat_2019_by_intended_college_major.csv`](./data/sat_2019_by_intended_college_major.csv): 2019 SAT Scores by Intended College Major\n",
    "* [`sat_2019_ca.csv`](./data/sat_2019_ca.csv): 2019 SAT Scores in California by School\n",
    "* [`sat_act_by_college.csv`](./data/sat_act_by_college.csv): Ranges of Accepted ACT & SAT Student Scores by Colleges"
   ]
  },
  {
   "cell_type": "markdown",
   "metadata": {},
   "source": [
    "This project selects 6 dataset e.g. act_2017, act_2018, act_2019, sat_2017, sat_2018 and sat_2019. All of this dataset is the participation and average score for each state in america. "
   ]
  },
  {
   "cell_type": "markdown",
   "metadata": {},
   "source": [
    "### Outside Research"
   ]
  },
  {
   "cell_type": "markdown",
   "metadata": {},
   "source": [
    "There are some of state in US that require ACT or SAT\n",
    "- https://blog.prepscholar.com/act-vs-sat\n",
    "- https://www.petersons.com/blog/states-requiring-the-act/"
   ]
  },
  {
   "cell_type": "markdown",
   "metadata": {},
   "source": [
    "### Coding Challenges\n",
    "\n",
    "1. Manually calculate mean:\n",
    "\n",
    "    Write a function that takes in values and returns the mean of the values. Create a list of numbers that you test on your function to check to make sure your function works!\n",
    "    \n",
    "    *Note*: Do not use any mean methods built-in to any Python libraries to do this! This should be done without importing any additional libraries."
   ]
  },
  {
   "cell_type": "code",
   "execution_count": 1,
   "metadata": {},
   "outputs": [],
   "source": [
    "def mean_m(data):\n",
    "    \"\"\" Find mean of the list\n",
    "        Parameter\n",
    "        ---------\n",
    "        data : data is receive in list\n",
    "    \"\"\"\n",
    "    value = 0\n",
    "    for i in range(len(data)):\n",
    "        value += data[i]\n",
    "    return value/len(data)"
   ]
  },
  {
   "cell_type": "markdown",
   "metadata": {},
   "source": [
    "2. Manually calculate standard deviation:\n",
    "\n",
    "    The formula for standard deviation is below:\n",
    "\n",
    "    $$\\sigma = \\sqrt{\\frac{1}{n}\\sum_{i=1}^n(x_i - \\mu)^2}$$\n",
    "\n",
    "    Where $x_i$ represents each value in the dataset, $\\mu$ represents the mean of all values in the dataset and $n$ represents the number of values in the dataset.\n",
    "\n",
    "    Write a function that takes in values and returns the standard deviation of the values using the formula above. Hint: use the function you wrote above to calculate the mean! Use the list of numbers you created above to test on your function.\n",
    "    \n",
    "    *Note*: Do not use any standard deviation methods built-in to any Python libraries to do this! This should be done without importing any additional libraries."
   ]
  },
  {
   "cell_type": "code",
   "execution_count": 2,
   "metadata": {},
   "outputs": [],
   "source": [
    "def std_m(data):\n",
    "    mean = mean_m(data)\n",
    "    sum_diff_sqr = 0\n",
    "    for i in range(len(data)):\n",
    "        sum_diff_sqr += (data[i] - mean)**2\n",
    "    return (sum_diff_sqr/len(data))**(0.5)"
   ]
  },
  {
   "cell_type": "markdown",
   "metadata": {},
   "source": [
    "3. Data cleaning function:\n",
    "    \n",
    "    Write a function that takes in a string that is a number and a percent symbol (ex. '50%', '30.5%', etc.) and converts this to a float that is the decimal approximation of the percent. For example, inputting '50%' in your function should return 0.5, '30.5%' should return 0.305, etc. Make sure to test your function to make sure it works!\n",
    "\n",
    "You will use these functions later on in the project!"
   ]
  },
  {
   "cell_type": "code",
   "execution_count": 3,
   "metadata": {},
   "outputs": [],
   "source": [
    "def data_clean(data):\n",
    "    return float(data.replace(\"%\",\"\"))/100"
   ]
  },
  {
   "cell_type": "markdown",
   "metadata": {},
   "source": [
    "--- \n",
    "# Part 2\n",
    "\n",
    "Part 2 requires knowledge of Pandas, EDA, data cleaning, and data visualization.\n",
    "\n",
    "---"
   ]
  },
  {
   "cell_type": "code",
   "execution_count": 4,
   "metadata": {},
   "outputs": [],
   "source": [
    "import pandas as pd\n",
    "import matplotlib.pyplot as plt\n",
    "import numpy as np\n",
    "import seaborn as sns\n",
    "plt.rcParams.update({'font.size': 10})\n",
    "sns.set_palette('Pastel1')"
   ]
  },
  {
   "cell_type": "markdown",
   "metadata": {},
   "source": [
    "## Data Import and Cleaning"
   ]
  },
  {
   "cell_type": "markdown",
   "metadata": {},
   "source": [
    "### Data Import & Cleaning\n",
    "\n",
    "Import the datasets that you selected for this project and go through the following steps at a minimum. You are welcome to do further cleaning as you feel necessary:\n",
    "1. Display the data: print the first 5 rows of each dataframe to your Jupyter notebook.\n",
    "2. Check for missing values.\n",
    "3. Check for any obvious issues with the observations (keep in mind the minimum & maximum possible values for each test/subtest).\n",
    "4. Fix any errors you identified in steps 2-3.\n",
    "5. Display the data types of each feature.\n",
    "6. Fix any incorrect data types found in step 5.\n",
    "    - Fix any individual values preventing other columns from being the appropriate type.\n",
    "    - If your dataset has a column of percents (ex. '50%', '30.5%', etc.), use the function you wrote in Part 1 (coding challenges, number 3) to convert this to floats! *Hint*: use `.map()` or `.apply()`.\n",
    "7. Rename Columns.\n",
    "    - Column names should be all lowercase.\n",
    "    - Column names should not contain spaces (underscores will suffice--this allows for using the `df.column_name` method to access columns in addition to `df['column_name']`).\n",
    "    - Column names should be unique and informative.\n",
    "8. Drop unnecessary rows (if needed).\n",
    "9. Merge dataframes that can be merged.\n",
    "10. Perform any additional cleaning that you feel is necessary.\n",
    "11. Save your cleaned and merged dataframes as csv files."
   ]
  },
  {
   "cell_type": "code",
   "execution_count": 5,
   "metadata": {},
   "outputs": [],
   "source": [
    "# Import data in to dataframe\n",
    "act_2017 = pd.read_csv('../data/act_2017.csv')\n",
    "sat_2017 = pd.read_csv('../data/sat_2017.csv')\n",
    "act_2018 = pd.read_csv('../data/act_2018.csv')\n",
    "sat_2018 = pd.read_csv('../data/sat_2018.csv')\n",
    "act_2019 = pd.read_csv('../data/act_2019.csv')\n",
    "sat_2019 = pd.read_csv('../data/sat_2019.csv')"
   ]
  },
  {
   "cell_type": "code",
   "execution_count": 6,
   "metadata": {},
   "outputs": [
    {
     "data": {
      "text/html": [
       "<div>\n",
       "<style scoped>\n",
       "    .dataframe tbody tr th:only-of-type {\n",
       "        vertical-align: middle;\n",
       "    }\n",
       "\n",
       "    .dataframe tbody tr th {\n",
       "        vertical-align: top;\n",
       "    }\n",
       "\n",
       "    .dataframe thead th {\n",
       "        text-align: right;\n",
       "    }\n",
       "</style>\n",
       "<table border=\"1\" class=\"dataframe\">\n",
       "  <thead>\n",
       "    <tr style=\"text-align: right;\">\n",
       "      <th></th>\n",
       "      <th>State</th>\n",
       "      <th>Participation</th>\n",
       "      <th>English</th>\n",
       "      <th>Math</th>\n",
       "      <th>Reading</th>\n",
       "      <th>Science</th>\n",
       "      <th>Composite</th>\n",
       "    </tr>\n",
       "  </thead>\n",
       "  <tbody>\n",
       "    <tr>\n",
       "      <th>0</th>\n",
       "      <td>National</td>\n",
       "      <td>60%</td>\n",
       "      <td>20.3</td>\n",
       "      <td>20.7</td>\n",
       "      <td>21.4</td>\n",
       "      <td>21.0</td>\n",
       "      <td>21.0</td>\n",
       "    </tr>\n",
       "    <tr>\n",
       "      <th>1</th>\n",
       "      <td>Alabama</td>\n",
       "      <td>100%</td>\n",
       "      <td>18.9</td>\n",
       "      <td>18.4</td>\n",
       "      <td>19.7</td>\n",
       "      <td>19.4</td>\n",
       "      <td>19.2</td>\n",
       "    </tr>\n",
       "    <tr>\n",
       "      <th>2</th>\n",
       "      <td>Alaska</td>\n",
       "      <td>65%</td>\n",
       "      <td>18.7</td>\n",
       "      <td>19.8</td>\n",
       "      <td>20.4</td>\n",
       "      <td>19.9</td>\n",
       "      <td>19.8</td>\n",
       "    </tr>\n",
       "    <tr>\n",
       "      <th>3</th>\n",
       "      <td>Arizona</td>\n",
       "      <td>62%</td>\n",
       "      <td>18.6</td>\n",
       "      <td>19.8</td>\n",
       "      <td>20.1</td>\n",
       "      <td>19.8</td>\n",
       "      <td>19.7</td>\n",
       "    </tr>\n",
       "    <tr>\n",
       "      <th>4</th>\n",
       "      <td>Arkansas</td>\n",
       "      <td>100%</td>\n",
       "      <td>18.9</td>\n",
       "      <td>19.0</td>\n",
       "      <td>19.7</td>\n",
       "      <td>19.5</td>\n",
       "      <td>19.4</td>\n",
       "    </tr>\n",
       "  </tbody>\n",
       "</table>\n",
       "</div>"
      ],
      "text/plain": [
       "      State Participation  English  Math  Reading  Science Composite\n",
       "0  National           60%     20.3  20.7     21.4     21.0      21.0\n",
       "1   Alabama          100%     18.9  18.4     19.7     19.4      19.2\n",
       "2    Alaska           65%     18.7  19.8     20.4     19.9      19.8\n",
       "3   Arizona           62%     18.6  19.8     20.1     19.8      19.7\n",
       "4  Arkansas          100%     18.9  19.0     19.7     19.5      19.4"
      ]
     },
     "execution_count": 6,
     "metadata": {},
     "output_type": "execute_result"
    }
   ],
   "source": [
    "act_2017.head()"
   ]
  },
  {
   "cell_type": "code",
   "execution_count": 7,
   "metadata": {},
   "outputs": [
    {
     "data": {
      "text/html": [
       "<div>\n",
       "<style scoped>\n",
       "    .dataframe tbody tr th:only-of-type {\n",
       "        vertical-align: middle;\n",
       "    }\n",
       "\n",
       "    .dataframe tbody tr th {\n",
       "        vertical-align: top;\n",
       "    }\n",
       "\n",
       "    .dataframe thead th {\n",
       "        text-align: right;\n",
       "    }\n",
       "</style>\n",
       "<table border=\"1\" class=\"dataframe\">\n",
       "  <thead>\n",
       "    <tr style=\"text-align: right;\">\n",
       "      <th></th>\n",
       "      <th>State</th>\n",
       "      <th>Participation</th>\n",
       "      <th>Evidence-Based Reading and Writing</th>\n",
       "      <th>Math</th>\n",
       "      <th>Total</th>\n",
       "    </tr>\n",
       "  </thead>\n",
       "  <tbody>\n",
       "    <tr>\n",
       "      <th>0</th>\n",
       "      <td>Alabama</td>\n",
       "      <td>5%</td>\n",
       "      <td>593</td>\n",
       "      <td>572</td>\n",
       "      <td>1165</td>\n",
       "    </tr>\n",
       "    <tr>\n",
       "      <th>1</th>\n",
       "      <td>Alaska</td>\n",
       "      <td>38%</td>\n",
       "      <td>547</td>\n",
       "      <td>533</td>\n",
       "      <td>1080</td>\n",
       "    </tr>\n",
       "    <tr>\n",
       "      <th>2</th>\n",
       "      <td>Arizona</td>\n",
       "      <td>30%</td>\n",
       "      <td>563</td>\n",
       "      <td>553</td>\n",
       "      <td>1116</td>\n",
       "    </tr>\n",
       "    <tr>\n",
       "      <th>3</th>\n",
       "      <td>Arkansas</td>\n",
       "      <td>3%</td>\n",
       "      <td>614</td>\n",
       "      <td>594</td>\n",
       "      <td>1208</td>\n",
       "    </tr>\n",
       "    <tr>\n",
       "      <th>4</th>\n",
       "      <td>California</td>\n",
       "      <td>53%</td>\n",
       "      <td>531</td>\n",
       "      <td>524</td>\n",
       "      <td>1055</td>\n",
       "    </tr>\n",
       "  </tbody>\n",
       "</table>\n",
       "</div>"
      ],
      "text/plain": [
       "        State Participation  Evidence-Based Reading and Writing  Math  Total\n",
       "0     Alabama            5%                                 593   572   1165\n",
       "1      Alaska           38%                                 547   533   1080\n",
       "2     Arizona           30%                                 563   553   1116\n",
       "3    Arkansas            3%                                 614   594   1208\n",
       "4  California           53%                                 531   524   1055"
      ]
     },
     "execution_count": 7,
     "metadata": {},
     "output_type": "execute_result"
    }
   ],
   "source": [
    "sat_2017.head()"
   ]
  },
  {
   "cell_type": "code",
   "execution_count": 8,
   "metadata": {},
   "outputs": [
    {
     "data": {
      "text/html": [
       "<div>\n",
       "<style scoped>\n",
       "    .dataframe tbody tr th:only-of-type {\n",
       "        vertical-align: middle;\n",
       "    }\n",
       "\n",
       "    .dataframe tbody tr th {\n",
       "        vertical-align: top;\n",
       "    }\n",
       "\n",
       "    .dataframe thead th {\n",
       "        text-align: right;\n",
       "    }\n",
       "</style>\n",
       "<table border=\"1\" class=\"dataframe\">\n",
       "  <thead>\n",
       "    <tr style=\"text-align: right;\">\n",
       "      <th></th>\n",
       "      <th>State</th>\n",
       "      <th>Participation</th>\n",
       "      <th>Composite</th>\n",
       "    </tr>\n",
       "  </thead>\n",
       "  <tbody>\n",
       "    <tr>\n",
       "      <th>0</th>\n",
       "      <td>Alabama</td>\n",
       "      <td>100%</td>\n",
       "      <td>19.1</td>\n",
       "    </tr>\n",
       "    <tr>\n",
       "      <th>1</th>\n",
       "      <td>Alaska</td>\n",
       "      <td>33%</td>\n",
       "      <td>20.8</td>\n",
       "    </tr>\n",
       "    <tr>\n",
       "      <th>2</th>\n",
       "      <td>Arizona</td>\n",
       "      <td>66%</td>\n",
       "      <td>19.2</td>\n",
       "    </tr>\n",
       "    <tr>\n",
       "      <th>3</th>\n",
       "      <td>Arkansas</td>\n",
       "      <td>100%</td>\n",
       "      <td>19.4</td>\n",
       "    </tr>\n",
       "    <tr>\n",
       "      <th>4</th>\n",
       "      <td>California</td>\n",
       "      <td>27%</td>\n",
       "      <td>22.7</td>\n",
       "    </tr>\n",
       "  </tbody>\n",
       "</table>\n",
       "</div>"
      ],
      "text/plain": [
       "        State Participation  Composite\n",
       "0     Alabama          100%       19.1\n",
       "1      Alaska           33%       20.8\n",
       "2     Arizona           66%       19.2\n",
       "3    Arkansas          100%       19.4\n",
       "4  California           27%       22.7"
      ]
     },
     "execution_count": 8,
     "metadata": {},
     "output_type": "execute_result"
    }
   ],
   "source": [
    "act_2018.head()"
   ]
  },
  {
   "cell_type": "code",
   "execution_count": 9,
   "metadata": {},
   "outputs": [
    {
     "data": {
      "text/html": [
       "<div>\n",
       "<style scoped>\n",
       "    .dataframe tbody tr th:only-of-type {\n",
       "        vertical-align: middle;\n",
       "    }\n",
       "\n",
       "    .dataframe tbody tr th {\n",
       "        vertical-align: top;\n",
       "    }\n",
       "\n",
       "    .dataframe thead th {\n",
       "        text-align: right;\n",
       "    }\n",
       "</style>\n",
       "<table border=\"1\" class=\"dataframe\">\n",
       "  <thead>\n",
       "    <tr style=\"text-align: right;\">\n",
       "      <th></th>\n",
       "      <th>State</th>\n",
       "      <th>Participation</th>\n",
       "      <th>Evidence-Based Reading and Writing</th>\n",
       "      <th>Math</th>\n",
       "      <th>Total</th>\n",
       "    </tr>\n",
       "  </thead>\n",
       "  <tbody>\n",
       "    <tr>\n",
       "      <th>0</th>\n",
       "      <td>Alabama</td>\n",
       "      <td>6%</td>\n",
       "      <td>595</td>\n",
       "      <td>571</td>\n",
       "      <td>1166</td>\n",
       "    </tr>\n",
       "    <tr>\n",
       "      <th>1</th>\n",
       "      <td>Alaska</td>\n",
       "      <td>43%</td>\n",
       "      <td>562</td>\n",
       "      <td>544</td>\n",
       "      <td>1106</td>\n",
       "    </tr>\n",
       "    <tr>\n",
       "      <th>2</th>\n",
       "      <td>Arizona</td>\n",
       "      <td>29%</td>\n",
       "      <td>577</td>\n",
       "      <td>572</td>\n",
       "      <td>1149</td>\n",
       "    </tr>\n",
       "    <tr>\n",
       "      <th>3</th>\n",
       "      <td>Arkansas</td>\n",
       "      <td>5%</td>\n",
       "      <td>592</td>\n",
       "      <td>576</td>\n",
       "      <td>1169</td>\n",
       "    </tr>\n",
       "    <tr>\n",
       "      <th>4</th>\n",
       "      <td>California</td>\n",
       "      <td>60%</td>\n",
       "      <td>540</td>\n",
       "      <td>536</td>\n",
       "      <td>1076</td>\n",
       "    </tr>\n",
       "  </tbody>\n",
       "</table>\n",
       "</div>"
      ],
      "text/plain": [
       "        State Participation  Evidence-Based Reading and Writing  Math  Total\n",
       "0     Alabama            6%                                 595   571   1166\n",
       "1      Alaska           43%                                 562   544   1106\n",
       "2     Arizona           29%                                 577   572   1149\n",
       "3    Arkansas            5%                                 592   576   1169\n",
       "4  California           60%                                 540   536   1076"
      ]
     },
     "execution_count": 9,
     "metadata": {},
     "output_type": "execute_result"
    }
   ],
   "source": [
    "sat_2018.head()"
   ]
  },
  {
   "cell_type": "code",
   "execution_count": 10,
   "metadata": {},
   "outputs": [
    {
     "data": {
      "text/html": [
       "<div>\n",
       "<style scoped>\n",
       "    .dataframe tbody tr th:only-of-type {\n",
       "        vertical-align: middle;\n",
       "    }\n",
       "\n",
       "    .dataframe tbody tr th {\n",
       "        vertical-align: top;\n",
       "    }\n",
       "\n",
       "    .dataframe thead th {\n",
       "        text-align: right;\n",
       "    }\n",
       "</style>\n",
       "<table border=\"1\" class=\"dataframe\">\n",
       "  <thead>\n",
       "    <tr style=\"text-align: right;\">\n",
       "      <th></th>\n",
       "      <th>State</th>\n",
       "      <th>Participation</th>\n",
       "      <th>Composite</th>\n",
       "    </tr>\n",
       "  </thead>\n",
       "  <tbody>\n",
       "    <tr>\n",
       "      <th>0</th>\n",
       "      <td>Alabama</td>\n",
       "      <td>100%</td>\n",
       "      <td>18.9</td>\n",
       "    </tr>\n",
       "    <tr>\n",
       "      <th>1</th>\n",
       "      <td>Alaska</td>\n",
       "      <td>38%</td>\n",
       "      <td>20.1</td>\n",
       "    </tr>\n",
       "    <tr>\n",
       "      <th>2</th>\n",
       "      <td>Arizona</td>\n",
       "      <td>73%</td>\n",
       "      <td>19.0</td>\n",
       "    </tr>\n",
       "    <tr>\n",
       "      <th>3</th>\n",
       "      <td>Arkansas</td>\n",
       "      <td>100%</td>\n",
       "      <td>19.3</td>\n",
       "    </tr>\n",
       "    <tr>\n",
       "      <th>4</th>\n",
       "      <td>California</td>\n",
       "      <td>23%</td>\n",
       "      <td>22.6</td>\n",
       "    </tr>\n",
       "  </tbody>\n",
       "</table>\n",
       "</div>"
      ],
      "text/plain": [
       "        State Participation  Composite\n",
       "0     Alabama          100%       18.9\n",
       "1      Alaska           38%       20.1\n",
       "2     Arizona           73%       19.0\n",
       "3    Arkansas          100%       19.3\n",
       "4  California           23%       22.6"
      ]
     },
     "execution_count": 10,
     "metadata": {},
     "output_type": "execute_result"
    }
   ],
   "source": [
    "act_2019.head()"
   ]
  },
  {
   "cell_type": "code",
   "execution_count": 11,
   "metadata": {},
   "outputs": [
    {
     "data": {
      "text/html": [
       "<div>\n",
       "<style scoped>\n",
       "    .dataframe tbody tr th:only-of-type {\n",
       "        vertical-align: middle;\n",
       "    }\n",
       "\n",
       "    .dataframe tbody tr th {\n",
       "        vertical-align: top;\n",
       "    }\n",
       "\n",
       "    .dataframe thead th {\n",
       "        text-align: right;\n",
       "    }\n",
       "</style>\n",
       "<table border=\"1\" class=\"dataframe\">\n",
       "  <thead>\n",
       "    <tr style=\"text-align: right;\">\n",
       "      <th></th>\n",
       "      <th>State</th>\n",
       "      <th>Participation Rate</th>\n",
       "      <th>EBRW</th>\n",
       "      <th>Math</th>\n",
       "      <th>Total</th>\n",
       "    </tr>\n",
       "  </thead>\n",
       "  <tbody>\n",
       "    <tr>\n",
       "      <th>0</th>\n",
       "      <td>Alabama</td>\n",
       "      <td>7%</td>\n",
       "      <td>583</td>\n",
       "      <td>560</td>\n",
       "      <td>1143</td>\n",
       "    </tr>\n",
       "    <tr>\n",
       "      <th>1</th>\n",
       "      <td>Alaska</td>\n",
       "      <td>41%</td>\n",
       "      <td>556</td>\n",
       "      <td>541</td>\n",
       "      <td>1097</td>\n",
       "    </tr>\n",
       "    <tr>\n",
       "      <th>2</th>\n",
       "      <td>Arizona</td>\n",
       "      <td>31%</td>\n",
       "      <td>569</td>\n",
       "      <td>565</td>\n",
       "      <td>1134</td>\n",
       "    </tr>\n",
       "    <tr>\n",
       "      <th>3</th>\n",
       "      <td>Arkansas</td>\n",
       "      <td>6%</td>\n",
       "      <td>582</td>\n",
       "      <td>559</td>\n",
       "      <td>1141</td>\n",
       "    </tr>\n",
       "    <tr>\n",
       "      <th>4</th>\n",
       "      <td>California</td>\n",
       "      <td>63%</td>\n",
       "      <td>534</td>\n",
       "      <td>531</td>\n",
       "      <td>1065</td>\n",
       "    </tr>\n",
       "  </tbody>\n",
       "</table>\n",
       "</div>"
      ],
      "text/plain": [
       "        State Participation Rate  EBRW  Math  Total\n",
       "0     Alabama                 7%   583   560   1143\n",
       "1      Alaska                41%   556   541   1097\n",
       "2     Arizona                31%   569   565   1134\n",
       "3    Arkansas                 6%   582   559   1141\n",
       "4  California                63%   534   531   1065"
      ]
     },
     "execution_count": 11,
     "metadata": {},
     "output_type": "execute_result"
    }
   ],
   "source": [
    "sat_2019.head()"
   ]
  },
  {
   "cell_type": "code",
   "execution_count": 12,
   "metadata": {},
   "outputs": [
    {
     "name": "stdout",
     "output_type": "stream",
     "text": [
      "<class 'pandas.core.frame.DataFrame'>\n",
      "RangeIndex: 52 entries, 0 to 51\n",
      "Data columns (total 7 columns):\n",
      " #   Column         Non-Null Count  Dtype  \n",
      "---  ------         --------------  -----  \n",
      " 0   State          52 non-null     object \n",
      " 1   Participation  52 non-null     object \n",
      " 2   English        52 non-null     float64\n",
      " 3   Math           52 non-null     float64\n",
      " 4   Reading        52 non-null     float64\n",
      " 5   Science        52 non-null     float64\n",
      " 6   Composite      52 non-null     object \n",
      "dtypes: float64(4), object(3)\n",
      "memory usage: 3.0+ KB\n"
     ]
    }
   ],
   "source": [
    "act_2017.info() # Has 1 additional : national rows"
   ]
  },
  {
   "cell_type": "code",
   "execution_count": 13,
   "metadata": {},
   "outputs": [
    {
     "name": "stdout",
     "output_type": "stream",
     "text": [
      "<class 'pandas.core.frame.DataFrame'>\n",
      "RangeIndex: 51 entries, 0 to 50\n",
      "Data columns (total 5 columns):\n",
      " #   Column                              Non-Null Count  Dtype \n",
      "---  ------                              --------------  ----- \n",
      " 0   State                               51 non-null     object\n",
      " 1   Participation                       51 non-null     object\n",
      " 2   Evidence-Based Reading and Writing  51 non-null     int64 \n",
      " 3   Math                                51 non-null     int64 \n",
      " 4   Total                               51 non-null     int64 \n",
      "dtypes: int64(3), object(2)\n",
      "memory usage: 2.1+ KB\n"
     ]
    }
   ],
   "source": [
    "sat_2017.info()"
   ]
  },
  {
   "cell_type": "code",
   "execution_count": 14,
   "metadata": {},
   "outputs": [
    {
     "name": "stdout",
     "output_type": "stream",
     "text": [
      "<class 'pandas.core.frame.DataFrame'>\n",
      "RangeIndex: 52 entries, 0 to 51\n",
      "Data columns (total 3 columns):\n",
      " #   Column         Non-Null Count  Dtype  \n",
      "---  ------         --------------  -----  \n",
      " 0   State          52 non-null     object \n",
      " 1   Participation  52 non-null     object \n",
      " 2   Composite      52 non-null     float64\n",
      "dtypes: float64(1), object(2)\n",
      "memory usage: 1.3+ KB\n"
     ]
    }
   ],
   "source": [
    "act_2018.info()"
   ]
  },
  {
   "cell_type": "code",
   "execution_count": 15,
   "metadata": {},
   "outputs": [
    {
     "name": "stdout",
     "output_type": "stream",
     "text": [
      "<class 'pandas.core.frame.DataFrame'>\n",
      "RangeIndex: 51 entries, 0 to 50\n",
      "Data columns (total 5 columns):\n",
      " #   Column                              Non-Null Count  Dtype \n",
      "---  ------                              --------------  ----- \n",
      " 0   State                               51 non-null     object\n",
      " 1   Participation                       51 non-null     object\n",
      " 2   Evidence-Based Reading and Writing  51 non-null     int64 \n",
      " 3   Math                                51 non-null     int64 \n",
      " 4   Total                               51 non-null     int64 \n",
      "dtypes: int64(3), object(2)\n",
      "memory usage: 2.1+ KB\n"
     ]
    }
   ],
   "source": [
    "sat_2018.info()"
   ]
  },
  {
   "cell_type": "code",
   "execution_count": 16,
   "metadata": {},
   "outputs": [
    {
     "name": "stdout",
     "output_type": "stream",
     "text": [
      "<class 'pandas.core.frame.DataFrame'>\n",
      "RangeIndex: 52 entries, 0 to 51\n",
      "Data columns (total 3 columns):\n",
      " #   Column         Non-Null Count  Dtype  \n",
      "---  ------         --------------  -----  \n",
      " 0   State          52 non-null     object \n",
      " 1   Participation  52 non-null     object \n",
      " 2   Composite      52 non-null     float64\n",
      "dtypes: float64(1), object(2)\n",
      "memory usage: 1.3+ KB\n"
     ]
    }
   ],
   "source": [
    "act_2019.info()"
   ]
  },
  {
   "cell_type": "code",
   "execution_count": 17,
   "metadata": {},
   "outputs": [
    {
     "name": "stdout",
     "output_type": "stream",
     "text": [
      "<class 'pandas.core.frame.DataFrame'>\n",
      "RangeIndex: 53 entries, 0 to 52\n",
      "Data columns (total 5 columns):\n",
      " #   Column              Non-Null Count  Dtype \n",
      "---  ------              --------------  ----- \n",
      " 0   State               53 non-null     object\n",
      " 1   Participation Rate  53 non-null     object\n",
      " 2   EBRW                53 non-null     int64 \n",
      " 3   Math                53 non-null     int64 \n",
      " 4   Total               53 non-null     int64 \n",
      "dtypes: int64(3), object(2)\n",
      "memory usage: 2.2+ KB\n"
     ]
    }
   ],
   "source": [
    "sat_2019.info()"
   ]
  },
  {
   "cell_type": "code",
   "execution_count": 18,
   "metadata": {},
   "outputs": [
    {
     "name": "stderr",
     "output_type": "stream",
     "text": [
      "C:\\Users\\Kant\\AppData\\Local\\Temp\\ipykernel_212\\2845651155.py:6: SettingWithCopyWarning: \n",
      "A value is trying to be set on a copy of a slice from a DataFrame\n",
      "\n",
      "See the caveats in the documentation: https://pandas.pydata.org/pandas-docs/stable/user_guide/indexing.html#returning-a-view-versus-a-copy\n",
      "  act_2017['Science'][21] = 23 # The value in science column is 2.3 but average = 23 --> change to 23\n"
     ]
    }
   ],
   "source": [
    "# Clean act_2017 data with data_clean function to change 10% format to 0.1\n",
    "act_2017['Participation'] = act_2017['Participation'].map(data_clean)\n",
    "# Change data type from object to float\n",
    "act_2017['Composite'] = act_2017['Composite'].str.replace('x',\"\") # Value in this column is 20.2x --> Need to remove x\n",
    "act_2017['Composite'] = act_2017['Composite'].astype(float)\n",
    "act_2017['Science'][21] = 23 # The value in science column is 2.3 but average = 23 --> change to 23\n",
    "# Rename column to lowercase\n",
    "act_2017.rename(str.lower,axis = 'columns',inplace = True)"
   ]
  },
  {
   "cell_type": "code",
   "execution_count": 19,
   "metadata": {
    "scrolled": true
   },
   "outputs": [
    {
     "name": "stderr",
     "output_type": "stream",
     "text": [
      "C:\\Users\\Kant\\AppData\\Local\\Temp\\ipykernel_212\\4000877526.py:4: SettingWithCopyWarning: \n",
      "A value is trying to be set on a copy of a slice from a DataFrame\n",
      "\n",
      "See the caveats in the documentation: https://pandas.pydata.org/pandas-docs/stable/user_guide/indexing.html#returning-a-view-versus-a-copy\n",
      "  sat_2017['Math'][20] = 524\n"
     ]
    }
   ],
   "source": [
    "# Clean sat_2017 data with data_clean function to change 10% format to 0.1\n",
    "sat_2017['Participation'] = sat_2017['Participation'].map(data_clean)\n",
    "# Change value in row : index 20 and column math 52 --> 524 (calculate from total score - Evi. score)  \n",
    "sat_2017['Math'][20] = 524\n",
    "# Rename column to lowercase and eliminate space and - to underscore\n",
    "sat_2017.rename(str.lower,axis = 'columns',inplace = True)\n",
    "sat_2017.rename(columns = {'evidence-based reading and writing' :'ebrw'},inplace = True)"
   ]
  },
  {
   "cell_type": "code",
   "execution_count": 20,
   "metadata": {},
   "outputs": [],
   "source": [
    "act_2018['Participation'] = act_2018['Participation'].map(data_clean)\n",
    "act_2018.drop_duplicates(inplace = True) # state marine has duplicate\n",
    "act_2018.rename(str.lower,axis = 'columns',inplace = True)\n",
    "act_2018['state'] = act_2018['state'].replace('District of columbia','District of Columbia') # Capital c in comlumbia"
   ]
  },
  {
   "cell_type": "code",
   "execution_count": 21,
   "metadata": {},
   "outputs": [],
   "source": [
    "sat_2018['Participation'] = sat_2018['Participation'].map(data_clean)\n",
    "sat_2018.rename(str.lower,axis = 'columns',inplace = True)\n",
    "sat_2018.rename(columns = {'evidence-based reading and writing' :'ebrw'},inplace = True)"
   ]
  },
  {
   "cell_type": "code",
   "execution_count": 22,
   "metadata": {},
   "outputs": [],
   "source": [
    "# act_2019 has additional nation row\n",
    "act_2019['Participation'] = act_2019['Participation'].map(data_clean)\n",
    "act_2019.rename(str.lower,axis = 'columns',inplace = True)"
   ]
  },
  {
   "cell_type": "code",
   "execution_count": 23,
   "metadata": {},
   "outputs": [],
   "source": [
    "# Virgin Islands, Puerto Rico is extra in sat_2019\n",
    "sat_2019.rename(columns = {'Participation Rate' :'Participation'},inplace = True)\n",
    "sat_2019['Participation'].replace(\"—\",'0.43',inplace = True) # Change - to 1.5 (mean 2017,2018 = 0.4 , 0.46)\n",
    "sat_2019['Participation'] = sat_2019['Participation'].map(data_clean)\n",
    "sat_2019.rename(str.lower,axis = 'columns',inplace = True)"
   ]
  },
  {
   "cell_type": "code",
   "execution_count": 24,
   "metadata": {},
   "outputs": [
    {
     "data": {
      "text/html": [
       "<div>\n",
       "<style scoped>\n",
       "    .dataframe tbody tr th:only-of-type {\n",
       "        vertical-align: middle;\n",
       "    }\n",
       "\n",
       "    .dataframe tbody tr th {\n",
       "        vertical-align: top;\n",
       "    }\n",
       "\n",
       "    .dataframe thead th {\n",
       "        text-align: right;\n",
       "    }\n",
       "</style>\n",
       "<table border=\"1\" class=\"dataframe\">\n",
       "  <thead>\n",
       "    <tr style=\"text-align: right;\">\n",
       "      <th></th>\n",
       "      <th>state</th>\n",
       "      <th>participation</th>\n",
       "      <th>ebrw</th>\n",
       "      <th>math</th>\n",
       "      <th>total</th>\n",
       "    </tr>\n",
       "  </thead>\n",
       "  <tbody>\n",
       "    <tr>\n",
       "      <th>39</th>\n",
       "      <td>Puerto Rico</td>\n",
       "      <td>0.0043</td>\n",
       "      <td>483</td>\n",
       "      <td>462</td>\n",
       "      <td>944</td>\n",
       "    </tr>\n",
       "  </tbody>\n",
       "</table>\n",
       "</div>"
      ],
      "text/plain": [
       "          state  participation  ebrw  math  total\n",
       "39  Puerto Rico         0.0043   483   462    944"
      ]
     },
     "execution_count": 24,
     "metadata": {},
     "output_type": "execute_result"
    }
   ],
   "source": [
    "sat_2019[sat_2019['state'] == 'Puerto Rico']"
   ]
  },
  {
   "cell_type": "code",
   "execution_count": 25,
   "metadata": {},
   "outputs": [
    {
     "data": {
      "text/html": [
       "<div>\n",
       "<style scoped>\n",
       "    .dataframe tbody tr th:only-of-type {\n",
       "        vertical-align: middle;\n",
       "    }\n",
       "\n",
       "    .dataframe tbody tr th {\n",
       "        vertical-align: top;\n",
       "    }\n",
       "\n",
       "    .dataframe thead th {\n",
       "        text-align: right;\n",
       "    }\n",
       "</style>\n",
       "<table border=\"1\" class=\"dataframe\">\n",
       "  <thead>\n",
       "    <tr style=\"text-align: right;\">\n",
       "      <th></th>\n",
       "      <th>state</th>\n",
       "      <th>participation</th>\n",
       "      <th>ebrw</th>\n",
       "      <th>math</th>\n",
       "      <th>total</th>\n",
       "    </tr>\n",
       "  </thead>\n",
       "  <tbody>\n",
       "    <tr>\n",
       "      <th>47</th>\n",
       "      <td>Virgin Islands</td>\n",
       "      <td>0.0043</td>\n",
       "      <td>490</td>\n",
       "      <td>445</td>\n",
       "      <td>935</td>\n",
       "    </tr>\n",
       "  </tbody>\n",
       "</table>\n",
       "</div>"
      ],
      "text/plain": [
       "             state  participation  ebrw  math  total\n",
       "47  Virgin Islands         0.0043   490   445    935"
      ]
     },
     "execution_count": 25,
     "metadata": {},
     "output_type": "execute_result"
    }
   ],
   "source": [
    "sat_2019[sat_2019['state'] == 'Virgin Islands']"
   ]
  },
  {
   "cell_type": "code",
   "execution_count": 26,
   "metadata": {},
   "outputs": [],
   "source": [
    "sat_2019.drop([39,47],inplace = True)"
   ]
  },
  {
   "cell_type": "code",
   "execution_count": 27,
   "metadata": {},
   "outputs": [
    {
     "name": "stdout",
     "output_type": "stream",
     "text": [
      "nunique for state in act_2017 dataset : 52\n",
      "nunique for state in sat_2017 dataset : 51\n",
      "nunique for state in act_2018 dataset : 51\n",
      "nunique for state in sat_2018 dataset : 51\n",
      "nunique for state in act_2019 dataset : 52\n",
      "nunique for state in sat_2019 dataset : 51\n"
     ]
    }
   ],
   "source": [
    "data = [act_2017,sat_2017,act_2018,sat_2018,act_2019,sat_2019]\n",
    "title = ['act_2017','sat_2017','act_2018','sat_2018','act_2019','sat_2019']\n",
    "for index, data_ in enumerate(data):\n",
    "    print(f'''nunique for state in {title[index]} dataset : {data_['state'].nunique()}''')"
   ]
  },
  {
   "cell_type": "code",
   "execution_count": 28,
   "metadata": {},
   "outputs": [],
   "source": [
    "act_sat_2019 = act_2019.merge(right =  sat_2019,on = 'state',suffixes = (\"_act\",\"_sat\"))"
   ]
  },
  {
   "cell_type": "code",
   "execution_count": 29,
   "metadata": {},
   "outputs": [],
   "source": [
    "# Merge sat_2017 and act_2017 with state column\n",
    "act_sat_2017 = act_2017.merge(right =  sat_2017,on = 'state',suffixes = (\"_act\",\"_sat\"))\n",
    "# Create % score for sat and act with\n",
    "# Full score : sat = 1600, act = 36\n",
    "act_sat_2017['percent_act_total'] = round(act_sat_2017['composite']/36*100,2)\n",
    "act_sat_2017['percent_sat_total'] = round(act_sat_2017['total']/1600*100,2)"
   ]
  },
  {
   "cell_type": "code",
   "execution_count": 30,
   "metadata": {},
   "outputs": [],
   "source": [
    "# Merge sat_2017 and act_2018 with state column\n",
    "act_sat_2018 = act_2018.merge(right =  sat_2018,on = 'state',suffixes = (\"_act\",\"_sat\"))\n",
    "act_sat_2018['percent_act_total'] = round(act_sat_2018['composite']/36*100,2)\n",
    "act_sat_2018['percent_sat_total'] = round(act_sat_2018['total']/1600*100,2)"
   ]
  },
  {
   "cell_type": "code",
   "execution_count": 31,
   "metadata": {},
   "outputs": [],
   "source": [
    "# Merge sat_2017 and act_2019 with state column\n",
    "act_sat_2019 = act_2019.merge(right =  sat_2019,on = 'state',suffixes = (\"_act\",\"_sat\"))\n",
    "act_sat_2019['percent_act_total'] = round(act_sat_2019['composite']/36*100,2)\n",
    "act_sat_2019['percent_sat_total'] = round(act_sat_2019['total']/1600*100,2)"
   ]
  },
  {
   "cell_type": "code",
   "execution_count": 32,
   "metadata": {},
   "outputs": [
    {
     "name": "stdout",
     "output_type": "stream",
     "text": [
      "act_sat_2017 has 51 rows.\n",
      "act_sat_2018 has 51 rows.\n",
      "act_sat_2019 has 51 rows.\n"
     ]
    }
   ],
   "source": [
    "print(f'act_sat_2017 has {act_sat_2017.shape[0]} rows.') # Has 1 row lower than act_2017 (act_2017 has 1 national row)\n",
    "print(f'act_sat_2018 has {act_sat_2018.shape[0]} rows.')\n",
    "print(f'act_sat_2019 has {act_sat_2019.shape[0]} rows.')"
   ]
  },
  {
   "cell_type": "markdown",
   "metadata": {},
   "source": [
    "### Data Dictionary\n",
    "The 6 datasets using in this project are ACT2017, ACT2018, ACT2019, SAT2017, SAT2018 and SAT2019. All of the features in the dataset display in table below."
   ]
  },
  {
   "cell_type": "markdown",
   "metadata": {},
   "source": [
    "|Feature|Type|Dataset|Description|\n",
    "|---|---|---|---|\n",
    "|state|object|ACT2017/ACT2018/ACT2019/SAT2017/SAT2018/SAT2019|Identify the state.|\n",
    "|participation|float|ACT2017/ACT2018/ACT2019/SAT2017/SAT2018/SAT2019|The fraction of participation to the SAT/ACT test.|\n",
    "|english|float|ACT2017|Average score of English subject for each state.|\n",
    "|math|float/int|ACT2017/SAT2017/SAT2018/SAT2019|Average score of Math subject for each state.|\n",
    "|reading|float|ACT2017|Average score of reading part for each state.|\n",
    "|science|float|ACT2017|Average score of Science subject for each state.|\n",
    "|composite|float|ACT2017/ACT2018/ACT2019|Average score of all parts for each state.|\n",
    "|ebrw|int|ACT2017/SAT2017/SAT2018/SAT2019|Average score of evidence-based reading and writing part for each state.|\n",
    "|total|int|ACT2017/SAT2017/SAT2018/SAT2019|Average total SAT score for each state.|"
   ]
  },
  {
   "cell_type": "markdown",
   "metadata": {},
   "source": [
    "## Exploratory Data Analysis\n",
    "\n",
    "In exploratory data analysis section, there are 4 parts of analysis with difference scenario.\n",
    "1. [High participation rate of ACT and SAT in US](#1.-High-participation-rate-of-ACT-and-SAT-i-US)\n",
    "2. [Compare score between high participation rate and the other state](#2.-Compare-score-between-high-participation-rate-state-and-the-other-state)\n",
    "3. [High participation rate for both ACT and SAT](#3.-High-participation-rate-for-both-ACT-and-SAT)\n",
    "4. [Relation between score for each subject in ACT/SAT](#4.-Relation-between-score-for-each-subject-in-ACT/SAT)\n",
    "\n",
    "Part 1, 3 : Analysis the state in US for locate the tutor school (state with 100% participation rate).\n",
    "\n",
    "Part 2 : Analysis the performance of student.\n",
    "\n",
    "Part 4 : Analysis the correlation between each subject in ACT and SAT."
   ]
  },
  {
   "cell_type": "markdown",
   "metadata": {},
   "source": [
    "### 1. High participation rate of ACT and SAT in US\n",
    "In This part, I will focus on the state that have high participation rate for both ACT and SAT."
   ]
  },
  {
   "cell_type": "code",
   "execution_count": 33,
   "metadata": {},
   "outputs": [
    {
     "data": {
      "text/html": [
       "<div>\n",
       "<style scoped>\n",
       "    .dataframe tbody tr th:only-of-type {\n",
       "        vertical-align: middle;\n",
       "    }\n",
       "\n",
       "    .dataframe tbody tr th {\n",
       "        vertical-align: top;\n",
       "    }\n",
       "\n",
       "    .dataframe thead th {\n",
       "        text-align: right;\n",
       "    }\n",
       "</style>\n",
       "<table border=\"1\" class=\"dataframe\">\n",
       "  <thead>\n",
       "    <tr style=\"text-align: right;\">\n",
       "      <th></th>\n",
       "      <th>participation_act</th>\n",
       "      <th>english</th>\n",
       "      <th>math_act</th>\n",
       "      <th>reading</th>\n",
       "      <th>science</th>\n",
       "      <th>composite</th>\n",
       "      <th>participation_sat</th>\n",
       "      <th>ebrw</th>\n",
       "      <th>math_sat</th>\n",
       "      <th>total</th>\n",
       "      <th>percent_act_total</th>\n",
       "      <th>percent_sat_total</th>\n",
       "    </tr>\n",
       "  </thead>\n",
       "  <tbody>\n",
       "    <tr>\n",
       "      <th>count</th>\n",
       "      <td>51.00</td>\n",
       "      <td>51.00</td>\n",
       "      <td>51.00</td>\n",
       "      <td>51.00</td>\n",
       "      <td>51.00</td>\n",
       "      <td>51.00</td>\n",
       "      <td>51.00</td>\n",
       "      <td>51.00</td>\n",
       "      <td>51.00</td>\n",
       "      <td>51.00</td>\n",
       "      <td>51.00</td>\n",
       "      <td>51.00</td>\n",
       "    </tr>\n",
       "    <tr>\n",
       "      <th>mean</th>\n",
       "      <td>0.65</td>\n",
       "      <td>20.93</td>\n",
       "      <td>21.18</td>\n",
       "      <td>22.01</td>\n",
       "      <td>21.45</td>\n",
       "      <td>21.52</td>\n",
       "      <td>0.40</td>\n",
       "      <td>569.12</td>\n",
       "      <td>556.88</td>\n",
       "      <td>1126.10</td>\n",
       "      <td>59.78</td>\n",
       "      <td>70.38</td>\n",
       "    </tr>\n",
       "    <tr>\n",
       "      <th>std</th>\n",
       "      <td>0.32</td>\n",
       "      <td>2.35</td>\n",
       "      <td>1.98</td>\n",
       "      <td>2.07</td>\n",
       "      <td>1.74</td>\n",
       "      <td>2.02</td>\n",
       "      <td>0.35</td>\n",
       "      <td>45.67</td>\n",
       "      <td>47.12</td>\n",
       "      <td>92.49</td>\n",
       "      <td>5.61</td>\n",
       "      <td>5.78</td>\n",
       "    </tr>\n",
       "    <tr>\n",
       "      <th>min</th>\n",
       "      <td>0.08</td>\n",
       "      <td>16.30</td>\n",
       "      <td>18.00</td>\n",
       "      <td>18.10</td>\n",
       "      <td>18.20</td>\n",
       "      <td>17.80</td>\n",
       "      <td>0.02</td>\n",
       "      <td>482.00</td>\n",
       "      <td>468.00</td>\n",
       "      <td>950.00</td>\n",
       "      <td>49.44</td>\n",
       "      <td>59.38</td>\n",
       "    </tr>\n",
       "    <tr>\n",
       "      <th>25%</th>\n",
       "      <td>0.31</td>\n",
       "      <td>19.00</td>\n",
       "      <td>19.40</td>\n",
       "      <td>20.45</td>\n",
       "      <td>19.95</td>\n",
       "      <td>19.80</td>\n",
       "      <td>0.04</td>\n",
       "      <td>533.50</td>\n",
       "      <td>523.50</td>\n",
       "      <td>1055.50</td>\n",
       "      <td>55.00</td>\n",
       "      <td>65.97</td>\n",
       "    </tr>\n",
       "    <tr>\n",
       "      <th>50%</th>\n",
       "      <td>0.69</td>\n",
       "      <td>20.70</td>\n",
       "      <td>20.90</td>\n",
       "      <td>21.80</td>\n",
       "      <td>21.30</td>\n",
       "      <td>21.40</td>\n",
       "      <td>0.38</td>\n",
       "      <td>559.00</td>\n",
       "      <td>548.00</td>\n",
       "      <td>1107.00</td>\n",
       "      <td>59.44</td>\n",
       "      <td>69.19</td>\n",
       "    </tr>\n",
       "    <tr>\n",
       "      <th>75%</th>\n",
       "      <td>1.00</td>\n",
       "      <td>23.30</td>\n",
       "      <td>23.10</td>\n",
       "      <td>24.15</td>\n",
       "      <td>23.10</td>\n",
       "      <td>23.60</td>\n",
       "      <td>0.66</td>\n",
       "      <td>613.00</td>\n",
       "      <td>599.00</td>\n",
       "      <td>1212.00</td>\n",
       "      <td>65.56</td>\n",
       "      <td>75.75</td>\n",
       "    </tr>\n",
       "    <tr>\n",
       "      <th>max</th>\n",
       "      <td>1.00</td>\n",
       "      <td>25.50</td>\n",
       "      <td>25.30</td>\n",
       "      <td>26.00</td>\n",
       "      <td>24.90</td>\n",
       "      <td>25.50</td>\n",
       "      <td>1.00</td>\n",
       "      <td>644.00</td>\n",
       "      <td>651.00</td>\n",
       "      <td>1295.00</td>\n",
       "      <td>70.83</td>\n",
       "      <td>80.94</td>\n",
       "    </tr>\n",
       "  </tbody>\n",
       "</table>\n",
       "</div>"
      ],
      "text/plain": [
       "       participation_act  english  math_act  reading  science  composite  \\\n",
       "count              51.00    51.00     51.00    51.00    51.00      51.00   \n",
       "mean                0.65    20.93     21.18    22.01    21.45      21.52   \n",
       "std                 0.32     2.35      1.98     2.07     1.74       2.02   \n",
       "min                 0.08    16.30     18.00    18.10    18.20      17.80   \n",
       "25%                 0.31    19.00     19.40    20.45    19.95      19.80   \n",
       "50%                 0.69    20.70     20.90    21.80    21.30      21.40   \n",
       "75%                 1.00    23.30     23.10    24.15    23.10      23.60   \n",
       "max                 1.00    25.50     25.30    26.00    24.90      25.50   \n",
       "\n",
       "       participation_sat    ebrw  math_sat    total  percent_act_total  \\\n",
       "count              51.00   51.00     51.00    51.00              51.00   \n",
       "mean                0.40  569.12    556.88  1126.10              59.78   \n",
       "std                 0.35   45.67     47.12    92.49               5.61   \n",
       "min                 0.02  482.00    468.00   950.00              49.44   \n",
       "25%                 0.04  533.50    523.50  1055.50              55.00   \n",
       "50%                 0.38  559.00    548.00  1107.00              59.44   \n",
       "75%                 0.66  613.00    599.00  1212.00              65.56   \n",
       "max                 1.00  644.00    651.00  1295.00              70.83   \n",
       "\n",
       "       percent_sat_total  \n",
       "count              51.00  \n",
       "mean               70.38  \n",
       "std                 5.78  \n",
       "min                59.38  \n",
       "25%                65.97  \n",
       "50%                69.19  \n",
       "75%                75.75  \n",
       "max                80.94  "
      ]
     },
     "execution_count": 33,
     "metadata": {},
     "output_type": "execute_result"
    }
   ],
   "source": [
    "# Explore summary of ACT/SAT 2017 data\n",
    "act_sat_2017.describe().round(2)"
   ]
  },
  {
   "cell_type": "markdown",
   "metadata": {},
   "source": [
    "The distribution of the total score for ACT 2017 and SAT 2017 is normal distribution because mean equal to median."
   ]
  },
  {
   "cell_type": "code",
   "execution_count": 34,
   "metadata": {},
   "outputs": [],
   "source": [
    "def hist_participate(df1,df2,df3,title,x,r,color=None):\n",
    "    test1 = sns.histplot(data = df1, x = x,ax = ax[r][0],color = color)\n",
    "    test1.set(xlim=(0,1),ylim =(0,25),title = f'Participation of {title} 2017')\n",
    "    test2 = sns.histplot(data = df2, x = x,ax = ax[r][1],color = color)\n",
    "    test2.set(xlim=(0,1),ylim =(0,25),title = f'Participation of {title} 2018')\n",
    "    test3 = sns.histplot(data = df3, x = x,ax = ax[r][2],color = color)\n",
    "    test3.set(xlim=(0,1),ylim =(0,25),title = f'Participation of {title} 2019')\n",
    "    if color == None :\n",
    "        ax[r][0].text(0.4, 15, f'mean = {round(df1[x].mean(),2)}', color='k', \n",
    "            bbox=dict(facecolor= 'none', edgecolor = 'lightcoral', boxstyle='round'))\n",
    "        ax[r][1].text(0.4, 15, f'mean = {round(df2[x].mean(),2)}', color='k', \n",
    "            bbox=dict(facecolor= 'none', edgecolor = 'lightcoral', boxstyle='round'))\n",
    "        ax[r][2].text(0.4, 15, f'mean = {round(df3[x].mean(),2)}', color='k', \n",
    "            bbox=dict(facecolor= 'none', edgecolor = 'lightcoral', boxstyle='round'))\n",
    "    else :\n",
    "        ax[r][0].text(0.4, 15, f'mean = {round(df1[x].mean(),2)}', color='k', \n",
    "            bbox=dict(facecolor= 'none', edgecolor = color, boxstyle='round'))\n",
    "        ax[r][1].text(0.4, 15, f'mean = {round(df2[x].mean(),2)}', color='k', \n",
    "            bbox=dict(facecolor= 'none', edgecolor = color, boxstyle='round'))\n",
    "        ax[r][2].text(0.4, 15, f'mean = {round(df3[x].mean(),2)}', color='k', \n",
    "            bbox=dict(facecolor= 'none', edgecolor = color, boxstyle='round'))"
   ]
  },
  {
   "cell_type": "code",
   "execution_count": 35,
   "metadata": {},
   "outputs": [
    {
     "data": {
      "image/png": "[encoded data removed]",
      "text/plain": [
       "<Figure size 720x360 with 6 Axes>"
      ]
     },
     "metadata": {
      "needs_background": "light"
     },
     "output_type": "display_data"
    }
   ],
   "source": [
    "# Compare the participation rate\n",
    "fig, ax = plt.subplots(ncols = 3,nrows = 2,figsize = (10,5))\n",
    "hist_participate(act_sat_2017,act_sat_2018,act_sat_2019,'ACT','participation_act',0)\n",
    "hist_participate(act_sat_2017,act_sat_2018,act_sat_2019,'SAT','participation_sat',1,'royalblue')\n",
    "plt.tight_layout()"
   ]
  },
  {
   "cell_type": "code",
   "execution_count": 36,
   "metadata": {},
   "outputs": [],
   "source": [
    "def heatmap_act(act_sat,ax,year,last = 0):\n",
    "    act_sat_corr = act_sat[['participation_act','participation_sat','composite','total']].corr()\n",
    "    mask = np.triu(np.ones_like(act_sat_corr.corr(), dtype=bool)) # Upper triangle is True\n",
    "    if last == 1 :\n",
    "        heatmap = sns.heatmap(act_sat_corr.corr(),annot = True,cmap= 'RdBu',mask = mask, \\\n",
    "                      vmin = -1, vmax = 1, linewidths=.5,annot_kws={\"fontsize\":14},ax = ax);\n",
    "    else :\n",
    "        heatmap = sns.heatmap(act_sat_corr.corr(),annot = True,cmap= 'RdBu',mask = mask, \\\n",
    "                      vmin = -1, vmax = 1, linewidths=.5,annot_kws={\"fontsize\":14},cbar = False,ax = ax);\n",
    "    heatmap.set(title = f'Participation correlation {year}')"
   ]
  },
  {
   "cell_type": "code",
   "execution_count": 37,
   "metadata": {},
   "outputs": [
    {
     "data": {
      "image/png": "[encoded data removed]",
      "text/plain": [
       "<Figure size 1296x432 with 4 Axes>"
      ]
     },
     "metadata": {
      "needs_background": "light"
     },
     "output_type": "display_data"
    }
   ],
   "source": [
    "# Correlation of participation rate\n",
    "fig1, ax1 = plt.subplots(ncols = 3,figsize = (18,6))\n",
    "heatmap_act(act_sat_2017,ax1[0],2017)\n",
    "heatmap_act(act_sat_2018,ax1[1],2018)\n",
    "heatmap_act(act_sat_2019,ax1[2],2019,last =1)\n",
    "plt.tight_layout()"
   ]
  },
  {
   "cell_type": "markdown",
   "metadata": {},
   "source": [
    "From histogram and heatmap\n",
    "- The students tend to choose ACT more than SAT for all 3 years and the participation rate beween ACT and SAT is almost perfect negative correlation.\n",
    "- The participation rate for ACT and SAT is almost perfect negative correlation."
   ]
  },
  {
   "cell_type": "code",
   "execution_count": 38,
   "metadata": {},
   "outputs": [
    {
     "data": {
      "text/html": [
       "<div>\n",
       "<style scoped>\n",
       "    .dataframe tbody tr th:only-of-type {\n",
       "        vertical-align: middle;\n",
       "    }\n",
       "\n",
       "    .dataframe tbody tr th {\n",
       "        vertical-align: top;\n",
       "    }\n",
       "\n",
       "    .dataframe thead th {\n",
       "        text-align: right;\n",
       "    }\n",
       "</style>\n",
       "<table border=\"1\" class=\"dataframe\">\n",
       "  <thead>\n",
       "    <tr style=\"text-align: right;\">\n",
       "      <th></th>\n",
       "      <th>participation_act</th>\n",
       "      <th>english</th>\n",
       "      <th>math_act</th>\n",
       "      <th>reading</th>\n",
       "      <th>science</th>\n",
       "      <th>composite</th>\n",
       "    </tr>\n",
       "  </thead>\n",
       "  <tbody>\n",
       "    <tr>\n",
       "      <th>count</th>\n",
       "      <td>17.0</td>\n",
       "      <td>17.00</td>\n",
       "      <td>17.00</td>\n",
       "      <td>17.00</td>\n",
       "      <td>17.00</td>\n",
       "      <td>17.00</td>\n",
       "    </tr>\n",
       "    <tr>\n",
       "      <th>mean</th>\n",
       "      <td>1.0</td>\n",
       "      <td>18.97</td>\n",
       "      <td>19.39</td>\n",
       "      <td>20.15</td>\n",
       "      <td>19.94</td>\n",
       "      <td>19.74</td>\n",
       "    </tr>\n",
       "    <tr>\n",
       "      <th>std</th>\n",
       "      <td>0.0</td>\n",
       "      <td>1.04</td>\n",
       "      <td>0.93</td>\n",
       "      <td>0.94</td>\n",
       "      <td>0.89</td>\n",
       "      <td>0.91</td>\n",
       "    </tr>\n",
       "    <tr>\n",
       "      <th>min</th>\n",
       "      <td>1.0</td>\n",
       "      <td>16.30</td>\n",
       "      <td>18.00</td>\n",
       "      <td>18.10</td>\n",
       "      <td>18.20</td>\n",
       "      <td>17.80</td>\n",
       "    </tr>\n",
       "    <tr>\n",
       "      <th>50%</th>\n",
       "      <td>1.0</td>\n",
       "      <td>19.40</td>\n",
       "      <td>19.30</td>\n",
       "      <td>20.10</td>\n",
       "      <td>19.90</td>\n",
       "      <td>19.80</td>\n",
       "    </tr>\n",
       "    <tr>\n",
       "      <th>max</th>\n",
       "      <td>1.0</td>\n",
       "      <td>20.40</td>\n",
       "      <td>21.50</td>\n",
       "      <td>21.80</td>\n",
       "      <td>21.60</td>\n",
       "      <td>21.50</td>\n",
       "    </tr>\n",
       "  </tbody>\n",
       "</table>\n",
       "</div>"
      ],
      "text/plain": [
       "       participation_act  english  math_act  reading  science  composite\n",
       "count               17.0    17.00     17.00    17.00    17.00      17.00\n",
       "mean                 1.0    18.97     19.39    20.15    19.94      19.74\n",
       "std                  0.0     1.04      0.93     0.94     0.89       0.91\n",
       "min                  1.0    16.30     18.00    18.10    18.20      17.80\n",
       "50%                  1.0    19.40     19.30    20.10    19.90      19.80\n",
       "max                  1.0    20.40     21.50    21.80    21.60      21.50"
      ]
     },
     "execution_count": 38,
     "metadata": {},
     "output_type": "execute_result"
    }
   ],
   "source": [
    "# Filter act 2017 paticipation = 1\n",
    "act_sat_2017[act_sat_2017['participation_act'] == 1].describe(percentiles = [0.5])\\\n",
    "[['participation_act','english','math_act','reading','science','composite']].round(2)"
   ]
  },
  {
   "cell_type": "code",
   "execution_count": 39,
   "metadata": {},
   "outputs": [
    {
     "data": {
      "text/html": [
       "<div>\n",
       "<style scoped>\n",
       "    .dataframe tbody tr th:only-of-type {\n",
       "        vertical-align: middle;\n",
       "    }\n",
       "\n",
       "    .dataframe tbody tr th {\n",
       "        vertical-align: top;\n",
       "    }\n",
       "\n",
       "    .dataframe thead th {\n",
       "        text-align: right;\n",
       "    }\n",
       "</style>\n",
       "<table border=\"1\" class=\"dataframe\">\n",
       "  <thead>\n",
       "    <tr style=\"text-align: right;\">\n",
       "      <th></th>\n",
       "      <th>participation_act</th>\n",
       "      <th>composite</th>\n",
       "      <th>participation_sat</th>\n",
       "      <th>ebrw</th>\n",
       "      <th>math</th>\n",
       "      <th>total</th>\n",
       "      <th>percent_act_total</th>\n",
       "      <th>percent_sat_total</th>\n",
       "    </tr>\n",
       "  </thead>\n",
       "  <tbody>\n",
       "    <tr>\n",
       "      <th>count</th>\n",
       "      <td>15.0</td>\n",
       "      <td>15.00</td>\n",
       "      <td>15.00</td>\n",
       "      <td>15.00</td>\n",
       "      <td>15.00</td>\n",
       "      <td>15.00</td>\n",
       "      <td>15.00</td>\n",
       "      <td>15.00</td>\n",
       "    </tr>\n",
       "    <tr>\n",
       "      <th>mean</th>\n",
       "      <td>1.0</td>\n",
       "      <td>19.37</td>\n",
       "      <td>0.11</td>\n",
       "      <td>594.53</td>\n",
       "      <td>585.27</td>\n",
       "      <td>1179.93</td>\n",
       "      <td>53.82</td>\n",
       "      <td>73.75</td>\n",
       "    </tr>\n",
       "    <tr>\n",
       "      <th>std</th>\n",
       "      <td>0.0</td>\n",
       "      <td>0.71</td>\n",
       "      <td>0.13</td>\n",
       "      <td>39.31</td>\n",
       "      <td>43.61</td>\n",
       "      <td>82.39</td>\n",
       "      <td>1.98</td>\n",
       "      <td>5.15</td>\n",
       "    </tr>\n",
       "    <tr>\n",
       "      <th>min</th>\n",
       "      <td>1.0</td>\n",
       "      <td>17.90</td>\n",
       "      <td>0.03</td>\n",
       "      <td>490.00</td>\n",
       "      <td>472.00</td>\n",
       "      <td>963.00</td>\n",
       "      <td>49.72</td>\n",
       "      <td>60.19</td>\n",
       "    </tr>\n",
       "    <tr>\n",
       "      <th>25%</th>\n",
       "      <td>1.0</td>\n",
       "      <td>18.90</td>\n",
       "      <td>0.04</td>\n",
       "      <td>581.00</td>\n",
       "      <td>559.50</td>\n",
       "      <td>1142.00</td>\n",
       "      <td>52.50</td>\n",
       "      <td>71.38</td>\n",
       "    </tr>\n",
       "    <tr>\n",
       "      <th>50%</th>\n",
       "      <td>1.0</td>\n",
       "      <td>19.40</td>\n",
       "      <td>0.06</td>\n",
       "      <td>610.00</td>\n",
       "      <td>596.00</td>\n",
       "      <td>1200.00</td>\n",
       "      <td>53.89</td>\n",
       "      <td>75.00</td>\n",
       "    </tr>\n",
       "    <tr>\n",
       "      <th>75%</th>\n",
       "      <td>1.0</td>\n",
       "      <td>19.90</td>\n",
       "      <td>0.14</td>\n",
       "      <td>621.50</td>\n",
       "      <td>613.50</td>\n",
       "      <td>1234.50</td>\n",
       "      <td>55.28</td>\n",
       "      <td>77.16</td>\n",
       "    </tr>\n",
       "    <tr>\n",
       "      <th>max</th>\n",
       "      <td>1.0</td>\n",
       "      <td>20.30</td>\n",
       "      <td>0.51</td>\n",
       "      <td>635.00</td>\n",
       "      <td>648.00</td>\n",
       "      <td>1283.00</td>\n",
       "      <td>56.39</td>\n",
       "      <td>80.19</td>\n",
       "    </tr>\n",
       "  </tbody>\n",
       "</table>\n",
       "</div>"
      ],
      "text/plain": [
       "       participation_act  composite  participation_sat    ebrw    math  \\\n",
       "count               15.0      15.00              15.00   15.00   15.00   \n",
       "mean                 1.0      19.37               0.11  594.53  585.27   \n",
       "std                  0.0       0.71               0.13   39.31   43.61   \n",
       "min                  1.0      17.90               0.03  490.00  472.00   \n",
       "25%                  1.0      18.90               0.04  581.00  559.50   \n",
       "50%                  1.0      19.40               0.06  610.00  596.00   \n",
       "75%                  1.0      19.90               0.14  621.50  613.50   \n",
       "max                  1.0      20.30               0.51  635.00  648.00   \n",
       "\n",
       "         total  percent_act_total  percent_sat_total  \n",
       "count    15.00              15.00              15.00  \n",
       "mean   1179.93              53.82              73.75  \n",
       "std      82.39               1.98               5.15  \n",
       "min     963.00              49.72              60.19  \n",
       "25%    1142.00              52.50              71.38  \n",
       "50%    1200.00              53.89              75.00  \n",
       "75%    1234.50              55.28              77.16  \n",
       "max    1283.00              56.39              80.19  "
      ]
     },
     "execution_count": 39,
     "metadata": {},
     "output_type": "execute_result"
    }
   ],
   "source": [
    "act_sat_2019[act_sat_2019['participation_act'] == 1].describe().round(2)"
   ]
  },
  {
   "cell_type": "markdown",
   "metadata": {},
   "source": [
    "#### 19 states with 100% ACT participation rate past 3 years\n",
    "In this 3 years, there are 19 state that have 100% participation of ACT. This 19 states are good location for tutor school. Let's go deeper in to the student in this state. (Focus on ACT test because participation rate mean of ACT is higher than SAT)"
   ]
  },
  {
   "cell_type": "code",
   "execution_count": 40,
   "metadata": {},
   "outputs": [
    {
     "name": "stdout",
     "output_type": "stream",
     "text": [
      "1. Utah \n",
      "2. Colorado \n",
      "3. Arkansas \n",
      "4. Nebraska \n",
      "5. Mississippi \n",
      "6. Minnesota \n",
      "7. Montana \n",
      "8. Ohio \n",
      "9. South Carolina \n",
      "10. Louisiana \n",
      "11. North Carolina \n",
      "12. Kentucky \n",
      "13. Missouri \n",
      "14. Tennessee \n",
      "15. Wyoming \n",
      "16. Alabama \n",
      "17. Nevada \n",
      "18. Wisconsin \n",
      "19. Oklahoma \n"
     ]
    }
   ],
   "source": [
    "state_act_100_2017 =  list(act_sat_2017[act_sat_2017['participation_act'] == 1]['state'].values)\n",
    "state_act_100_2018 =  list(act_sat_2018[act_sat_2018['participation_act'] == 1]['state'].values)\n",
    "state_act_100_2019 =  list(act_sat_2019[act_sat_2019['participation_act'] == 1]['state'].values)\n",
    "state_act_100_3y = list(set(state_act_100_2017+state_act_100_2018+state_act_100_2019))\n",
    "for i, state in enumerate(state_act_100_3y):\n",
    "    print(f'{i+1}. {state} ')"
   ]
  },
  {
   "cell_type": "markdown",
   "metadata": {},
   "source": [
    "### 2. Compare score between high participation rate state and the other state\n",
    "In this second part, I will compare the score of the student between high participation rate and the other state for gathering student information. This infomation is useful for choose level of the tutor."
   ]
  },
  {
   "cell_type": "code",
   "execution_count": 41,
   "metadata": {
    "scrolled": true
   },
   "outputs": [
    {
     "data": {
      "text/html": [
       "<div>\n",
       "<style scoped>\n",
       "    .dataframe tbody tr th:only-of-type {\n",
       "        vertical-align: middle;\n",
       "    }\n",
       "\n",
       "    .dataframe tbody tr th {\n",
       "        vertical-align: top;\n",
       "    }\n",
       "\n",
       "    .dataframe thead th {\n",
       "        text-align: right;\n",
       "    }\n",
       "</style>\n",
       "<table border=\"1\" class=\"dataframe\">\n",
       "  <thead>\n",
       "    <tr style=\"text-align: right;\">\n",
       "      <th></th>\n",
       "      <th>participation_act</th>\n",
       "      <th>english</th>\n",
       "      <th>math_act</th>\n",
       "      <th>reading</th>\n",
       "      <th>science</th>\n",
       "      <th>composite</th>\n",
       "    </tr>\n",
       "  </thead>\n",
       "  <tbody>\n",
       "    <tr>\n",
       "      <th>count</th>\n",
       "      <td>34.00</td>\n",
       "      <td>34.00</td>\n",
       "      <td>34.00</td>\n",
       "      <td>34.00</td>\n",
       "      <td>34.00</td>\n",
       "      <td>34.00</td>\n",
       "    </tr>\n",
       "    <tr>\n",
       "      <th>mean</th>\n",
       "      <td>0.48</td>\n",
       "      <td>21.91</td>\n",
       "      <td>22.08</td>\n",
       "      <td>22.95</td>\n",
       "      <td>22.20</td>\n",
       "      <td>22.41</td>\n",
       "    </tr>\n",
       "    <tr>\n",
       "      <th>std</th>\n",
       "      <td>0.25</td>\n",
       "      <td>2.21</td>\n",
       "      <td>1.75</td>\n",
       "      <td>1.83</td>\n",
       "      <td>1.55</td>\n",
       "      <td>1.82</td>\n",
       "    </tr>\n",
       "    <tr>\n",
       "      <th>min</th>\n",
       "      <td>0.08</td>\n",
       "      <td>17.80</td>\n",
       "      <td>19.20</td>\n",
       "      <td>19.20</td>\n",
       "      <td>19.30</td>\n",
       "      <td>19.00</td>\n",
       "    </tr>\n",
       "    <tr>\n",
       "      <th>50%</th>\n",
       "      <td>0.36</td>\n",
       "      <td>21.55</td>\n",
       "      <td>21.85</td>\n",
       "      <td>22.80</td>\n",
       "      <td>22.10</td>\n",
       "      <td>22.15</td>\n",
       "    </tr>\n",
       "    <tr>\n",
       "      <th>max</th>\n",
       "      <td>0.98</td>\n",
       "      <td>25.50</td>\n",
       "      <td>25.30</td>\n",
       "      <td>26.00</td>\n",
       "      <td>24.90</td>\n",
       "      <td>25.50</td>\n",
       "    </tr>\n",
       "  </tbody>\n",
       "</table>\n",
       "</div>"
      ],
      "text/plain": [
       "       participation_act  english  math_act  reading  science  composite\n",
       "count              34.00    34.00     34.00    34.00    34.00      34.00\n",
       "mean                0.48    21.91     22.08    22.95    22.20      22.41\n",
       "std                 0.25     2.21      1.75     1.83     1.55       1.82\n",
       "min                 0.08    17.80     19.20    19.20    19.30      19.00\n",
       "50%                 0.36    21.55     21.85    22.80    22.10      22.15\n",
       "max                 0.98    25.50     25.30    26.00    24.90      25.50"
      ]
     },
     "execution_count": 41,
     "metadata": {},
     "output_type": "execute_result"
    }
   ],
   "source": [
    "# Filter act 2017 paticipation != 1\n",
    "act_sat_2017[act_sat_2017['participation_act'] != 1].describe(percentiles = [0.5])\\\n",
    "[['participation_act','english','math_act','reading','science','composite']].round(2)"
   ]
  },
  {
   "cell_type": "code",
   "execution_count": 42,
   "metadata": {},
   "outputs": [],
   "source": [
    "def label_chart(chart,title,xlabel,ylabel,y_add = 0,decimal = 1):\n",
    "    if decimal == 1:\n",
    "        for p in chart.patches:\n",
    "            chart.annotate('{:.2f}'.format(p.get_height()), (p.get_x()+p.get_width()/2, p.get_height()+y_add),ha = 'center')\n",
    "        chart.set(title = title,xlabel = xlabel, ylabel = ylabel)\n",
    "    else :\n",
    "        for p in chart.patches:\n",
    "            chart.annotate('{:.0f}'.format(p.get_height()), (p.get_x()+p.get_width()/2, p.get_height()+y_add),ha = 'center')\n",
    "        chart.set(title = title,xlabel = xlabel, ylabel = ylabel)"
   ]
  },
  {
   "cell_type": "code",
   "execution_count": 43,
   "metadata": {},
   "outputs": [],
   "source": [
    "def mean_std_act(df_merge,year):\n",
    "    mean = []\n",
    "    std = []\n",
    "    fig2, ax2 = plt.subplots(ncols = 2,figsize = (10,5))\n",
    "    mean.append(df_merge[df_merge['participation_act'] != 1]['composite'].mean())\n",
    "    mean.append(df_merge[df_merge['participation_act'] == 1]['composite'].mean())\n",
    "    std.append(std_m(list(df_merge[df_merge['participation_act'] != 1]['composite'])))\n",
    "    std.append(std_m(list(df_merge[df_merge['participation_act'] == 1]['composite'])))\n",
    "    mean_bar = sns.barplot(x = ['p != 1','p = 1'], y = [mean[0],mean[1]],ax = ax2[0],edgecolor = 'k');\n",
    "    label_chart(mean_bar,f'Mean of ACT {year}','Participation','Composite',0.1)\n",
    "    std_bar = sns.barplot(x = ['p != 1','p = 1'], y = [std[0],std[1]],ax = ax2[1],edgecolor = 'k');\n",
    "    label_chart(std_bar,f'Std of ACT {year}','Participation',None,0.01)\n",
    "    return mean, std"
   ]
  },
  {
   "cell_type": "code",
   "execution_count": 44,
   "metadata": {},
   "outputs": [
    {
     "data": {
      "image/png": "[encoded data removed]",
      "text/plain": [
       "<Figure size 720x360 with 2 Axes>"
      ]
     },
     "metadata": {
      "needs_background": "light"
     },
     "output_type": "display_data"
    },
    {
     "data": {
      "image/png": "[encoded data removed]",
      "text/plain": [
       "<Figure size 720x360 with 2 Axes>"
      ]
     },
     "metadata": {
      "needs_background": "light"
     },
     "output_type": "display_data"
    },
    {
     "data": {
      "image/png": "[encoded data removed]",
      "text/plain": [
       "<Figure size 720x360 with 2 Axes>"
      ]
     },
     "metadata": {
      "needs_background": "light"
     },
     "output_type": "display_data"
    }
   ],
   "source": [
    "# Compare mean/std ACT score between state w/paricipation rate = 100% and != 100%\n",
    "mean_act_2017, std_act_2017 = mean_std_act(act_sat_2017,2017);\n",
    "mean_act_2018, std_act_2018 = mean_std_act(act_sat_2018,2018);\n",
    "mean_act_2019, std_act_2019 = mean_std_act(act_sat_2019,2019);"
   ]
  },
  {
   "cell_type": "markdown",
   "metadata": {},
   "source": [
    "Mean ACT 2017 - 2019 score of participation in the state equal to 100% (1/3 of overall) is lower than the other state that participation doesn't equal to 100%. Moreover, the states that participation equal to 100% have lower standard deviation. It mean all distribution of score is narrow and the examination can't classify good and bad student."
   ]
  },
  {
   "cell_type": "code",
   "execution_count": 45,
   "metadata": {},
   "outputs": [
    {
     "data": {
      "text/html": [
       "<div>\n",
       "<style scoped>\n",
       "    .dataframe tbody tr th:only-of-type {\n",
       "        vertical-align: middle;\n",
       "    }\n",
       "\n",
       "    .dataframe tbody tr th {\n",
       "        vertical-align: top;\n",
       "    }\n",
       "\n",
       "    .dataframe thead th {\n",
       "        text-align: right;\n",
       "    }\n",
       "</style>\n",
       "<table border=\"1\" class=\"dataframe\">\n",
       "  <thead>\n",
       "    <tr style=\"text-align: right;\">\n",
       "      <th></th>\n",
       "      <th>participation_sat</th>\n",
       "      <th>ebrw</th>\n",
       "      <th>math_sat</th>\n",
       "      <th>total</th>\n",
       "    </tr>\n",
       "  </thead>\n",
       "  <tbody>\n",
       "    <tr>\n",
       "      <th>count</th>\n",
       "      <td>4.0</td>\n",
       "      <td>4.00</td>\n",
       "      <td>4.00</td>\n",
       "      <td>4.00</td>\n",
       "    </tr>\n",
       "    <tr>\n",
       "      <th>mean</th>\n",
       "      <td>1.0</td>\n",
       "      <td>506.00</td>\n",
       "      <td>491.75</td>\n",
       "      <td>998.00</td>\n",
       "    </tr>\n",
       "    <tr>\n",
       "      <th>std</th>\n",
       "      <td>0.0</td>\n",
       "      <td>19.75</td>\n",
       "      <td>18.12</td>\n",
       "      <td>37.44</td>\n",
       "    </tr>\n",
       "    <tr>\n",
       "      <th>min</th>\n",
       "      <td>1.0</td>\n",
       "      <td>482.00</td>\n",
       "      <td>468.00</td>\n",
       "      <td>950.00</td>\n",
       "    </tr>\n",
       "    <tr>\n",
       "      <th>50%</th>\n",
       "      <td>1.0</td>\n",
       "      <td>506.00</td>\n",
       "      <td>493.50</td>\n",
       "      <td>1000.50</td>\n",
       "    </tr>\n",
       "    <tr>\n",
       "      <th>max</th>\n",
       "      <td>1.0</td>\n",
       "      <td>530.00</td>\n",
       "      <td>512.00</td>\n",
       "      <td>1041.00</td>\n",
       "    </tr>\n",
       "  </tbody>\n",
       "</table>\n",
       "</div>"
      ],
      "text/plain": [
       "       participation_sat    ebrw  math_sat    total\n",
       "count                4.0    4.00      4.00     4.00\n",
       "mean                 1.0  506.00    491.75   998.00\n",
       "std                  0.0   19.75     18.12    37.44\n",
       "min                  1.0  482.00    468.00   950.00\n",
       "50%                  1.0  506.00    493.50  1000.50\n",
       "max                  1.0  530.00    512.00  1041.00"
      ]
     },
     "execution_count": 45,
     "metadata": {},
     "output_type": "execute_result"
    }
   ],
   "source": [
    "# Filter sat 2017 paticipation = 1\n",
    "act_sat_2017[act_sat_2017['participation_sat'] == 1]\\\n",
    "[['participation_sat','ebrw','math_sat','total']].describe(percentiles = [0.5]).round(2)"
   ]
  },
  {
   "cell_type": "markdown",
   "metadata": {},
   "source": [
    "#### 4 states with 100% SAT participation rate past 3 years\n",
    "There are only 4 state that have 100% participation of SAT. This 4 states are still good location. The analysis of the student is the same as analysis ACT in previuos."
   ]
  },
  {
   "cell_type": "code",
   "execution_count": 46,
   "metadata": {},
   "outputs": [
    {
     "data": {
      "text/html": [
       "<div>\n",
       "<style scoped>\n",
       "    .dataframe tbody tr th:only-of-type {\n",
       "        vertical-align: middle;\n",
       "    }\n",
       "\n",
       "    .dataframe tbody tr th {\n",
       "        vertical-align: top;\n",
       "    }\n",
       "\n",
       "    .dataframe thead th {\n",
       "        text-align: right;\n",
       "    }\n",
       "</style>\n",
       "<table border=\"1\" class=\"dataframe\">\n",
       "  <thead>\n",
       "    <tr style=\"text-align: right;\">\n",
       "      <th></th>\n",
       "      <th>participation_sat</th>\n",
       "      <th>ebrw</th>\n",
       "      <th>math_sat</th>\n",
       "      <th>total</th>\n",
       "    </tr>\n",
       "  </thead>\n",
       "  <tbody>\n",
       "    <tr>\n",
       "      <th>count</th>\n",
       "      <td>47.00</td>\n",
       "      <td>47.00</td>\n",
       "      <td>47.00</td>\n",
       "      <td>47.00</td>\n",
       "    </tr>\n",
       "    <tr>\n",
       "      <th>mean</th>\n",
       "      <td>0.35</td>\n",
       "      <td>574.49</td>\n",
       "      <td>562.43</td>\n",
       "      <td>1137.00</td>\n",
       "    </tr>\n",
       "    <tr>\n",
       "      <th>std</th>\n",
       "      <td>0.32</td>\n",
       "      <td>43.19</td>\n",
       "      <td>44.63</td>\n",
       "      <td>87.52</td>\n",
       "    </tr>\n",
       "    <tr>\n",
       "      <th>min</th>\n",
       "      <td>0.02</td>\n",
       "      <td>513.00</td>\n",
       "      <td>493.00</td>\n",
       "      <td>1005.00</td>\n",
       "    </tr>\n",
       "    <tr>\n",
       "      <th>50%</th>\n",
       "      <td>0.26</td>\n",
       "      <td>561.00</td>\n",
       "      <td>551.00</td>\n",
       "      <td>1114.00</td>\n",
       "    </tr>\n",
       "    <tr>\n",
       "      <th>max</th>\n",
       "      <td>0.96</td>\n",
       "      <td>644.00</td>\n",
       "      <td>651.00</td>\n",
       "      <td>1295.00</td>\n",
       "    </tr>\n",
       "  </tbody>\n",
       "</table>\n",
       "</div>"
      ],
      "text/plain": [
       "       participation_sat    ebrw  math_sat    total\n",
       "count              47.00   47.00     47.00    47.00\n",
       "mean                0.35  574.49    562.43  1137.00\n",
       "std                 0.32   43.19     44.63    87.52\n",
       "min                 0.02  513.00    493.00  1005.00\n",
       "50%                 0.26  561.00    551.00  1114.00\n",
       "max                 0.96  644.00    651.00  1295.00"
      ]
     },
     "execution_count": 46,
     "metadata": {},
     "output_type": "execute_result"
    }
   ],
   "source": [
    "# Filter sat 2017 paticipation != 1\n",
    "act_sat_2017[act_sat_2017['participation_sat'] != 1]\\\n",
    "[['participation_sat','ebrw','math_sat','total']].describe(percentiles = [0.5]).round(2)"
   ]
  },
  {
   "cell_type": "code",
   "execution_count": 47,
   "metadata": {},
   "outputs": [],
   "source": [
    "def mean_std_sat(df_merge,year):\n",
    "    mean = []\n",
    "    std = []\n",
    "    mean.append(df_merge[df_merge['participation_sat'] != 1]['total'].mean())\n",
    "    mean.append(df_merge[df_merge['participation_sat'] == 1]['total'].mean())\n",
    "    std.append(std_m(list(df_merge[df_merge['participation_sat'] != 1]['total'])))\n",
    "    std.append(std_m(list(df_merge[df_merge['participation_sat'] == 1]['total'])))\n",
    "    fig3, ax3 = plt.subplots(ncols = 2,figsize = (10,5))\n",
    "    mean_bar = sns.barplot(x = ['p != 1','p = 1'], y = [mean[0],mean[1]],ax = ax3[0],edgecolor = 'k');\n",
    "    label_chart(mean_bar,f'Mean of SAT {year}','Participation','Total',10,decimal = 0)\n",
    "    std_bar = sns.barplot(x = ['p != 1','p = 1'], y = [std[0],std[1]],ax = ax3[1],edgecolor = 'k');\n",
    "    label_chart(std_bar,f'Std of SAT {year}','Participation',None,1,decimal = 0)\n",
    "    return mean, std"
   ]
  },
  {
   "cell_type": "code",
   "execution_count": 48,
   "metadata": {},
   "outputs": [
    {
     "data": {
      "image/png": "[encoded data removed]",
      "text/plain": [
       "<Figure size 720x360 with 2 Axes>"
      ]
     },
     "metadata": {
      "needs_background": "light"
     },
     "output_type": "display_data"
    },
    {
     "data": {
      "image/png": "[encoded data removed]",
      "text/plain": [
       "<Figure size 720x360 with 2 Axes>"
      ]
     },
     "metadata": {
      "needs_background": "light"
     },
     "output_type": "display_data"
    },
    {
     "data": {
      "image/png": "[encoded data removed]",
      "text/plain": [
       "<Figure size 720x360 with 2 Axes>"
      ]
     },
     "metadata": {
      "needs_background": "light"
     },
     "output_type": "display_data"
    }
   ],
   "source": [
    "# Compare mean/std SAT score between state w/paricipation rate = 100% and != 100%\n",
    "mean_sat_2017, std_sat_2017 = mean_std_sat(act_sat_2017,2017);\n",
    "mean_sat_2018, std_sat_2018 = mean_std_sat(act_sat_2018,2018);\n",
    "mean_sat_2019, std_sat_2019 = mean_std_sat(act_sat_2019,2019);"
   ]
  },
  {
   "cell_type": "markdown",
   "metadata": {},
   "source": [
    "Mean SAT 2017 - 2019 score of participation in the state equal to 100% (4 states) is lower than the other state that participation didn't equal to 100%. More over, the state that participation equal to 100% had lower standard deviation. It could be the distribution of score was narrow. I think the examination couldn't classsify the student in this state. The result is the same trend as ACT."
   ]
  },
  {
   "cell_type": "code",
   "execution_count": 49,
   "metadata": {},
   "outputs": [
    {
     "data": {
      "image/png": "[encoded data removed]",
      "text/plain": [
       "<Figure size 720x360 with 2 Axes>"
      ]
     },
     "metadata": {
      "needs_background": "light"
     },
     "output_type": "display_data"
    }
   ],
   "source": [
    "# Compare mean/std of ACT score (year 2017 -2019)\n",
    "mean_act_3y = mean_act_2017 + mean_act_2018 + mean_act_2019\n",
    "std_act_3y = std_act_2017 + std_act_2018 + std_act_2019\n",
    "xtick_3y = ['p != 1'if i%2 == 0 else 'p = 1' for i in range(6)]\n",
    "years = [2017,2017,2018,2018,2019,2019]\n",
    "conclu_act_3y = [mean_act_3y,std_act_3y,xtick_3y,years]\n",
    "conclu_act_3y_r = pd.DataFrame(conclu_act_3y).transpose().rename(columns = {0 :'Mean',1 : 'Std',2 :'Participation',3 : 'Year'})\n",
    "\n",
    "fig4 , ax4 = plt.subplots(ncols = 2, figsize = (10, 5))\n",
    "mean_act_3y_bar = sns.barplot(data = conclu_act_3y_r, x = 'Participation', y = 'Mean',hue = 'Year',ax = ax4[0],edgecolor = 'k')\n",
    "ax4[0].legend(bbox_to_anchor = (1.3,1))\n",
    "label_chart(mean_act_3y_bar,'Mean of ACT 3 years','Participation','Composite',0.15)\n",
    "\n",
    "std_act_3y_bar = sns.barplot(data = conclu_act_3y_r, x = 'Participation', y = 'Std',hue = 'Year',ax = ax4[1],edgecolor = 'k')\n",
    "label_chart(std_act_3y_bar,'Std of ACT 3 years','Participation',None,0.015)\n",
    "\n",
    "plt.tight_layout()"
   ]
  },
  {
   "cell_type": "markdown",
   "metadata": {},
   "source": [
    "**Comparison between 3 years of ACT**\n",
    "\n",
    "Mean of ACT \n",
    "- Doesn't change by year \n",
    "\n",
    "Std of ACT : \n",
    "- For participation != 1 Increase by year : The distribution of student is wider.\n",
    "- For participation = 1 Decrease by year : Student may learn how to deal with ACT test"
   ]
  },
  {
   "cell_type": "code",
   "execution_count": 50,
   "metadata": {},
   "outputs": [
    {
     "data": {
      "image/png": "[encoded data removed]",
      "text/plain": [
       "<Figure size 720x360 with 2 Axes>"
      ]
     },
     "metadata": {
      "needs_background": "light"
     },
     "output_type": "display_data"
    }
   ],
   "source": [
    "# Compare mean/std of SAT score (year 2017 -2019)\n",
    "mean_sat_3y = mean_sat_2017 + mean_sat_2018 + mean_sat_2019\n",
    "std_sat_3y = std_sat_2017 + std_sat_2018 + std_sat_2019\n",
    "xtick_3y = ['p != 1'if i%2 == 0 else 'p = 1' for i in range(6)]\n",
    "years = [2017,2017,2018,2018,2019,2019]\n",
    "conclu_sat_3y = [mean_sat_3y,std_sat_3y,xtick_3y,years]\n",
    "conclu_sat_3y_r = pd.DataFrame(conclu_sat_3y).transpose().rename(columns = {0 :'Mean',1 : 'Std',2 :'Participation',3 : 'Year'})\n",
    "\n",
    "fig5 , ax5 = plt.subplots(ncols = 2, figsize = (10, 5))\n",
    "mean_sat_3y_bar = sns.barplot(data = conclu_sat_3y_r, x = 'Participation', y = 'Mean',hue = 'Year',ax = ax5[0],edgecolor = 'k')\n",
    "ax5[0].legend(bbox_to_anchor = (1.25,1))\n",
    "label_chart(mean_sat_3y_bar,'Mean of SAT 3 years','Participation','Total',10,decimal = 0)\n",
    "\n",
    "std_act_3y_bar = sns.barplot(data = conclu_sat_3y_r, x = 'Participation', y = 'Std',hue = 'Year',ax = ax5[1],edgecolor = 'k')\n",
    "label_chart(std_act_3y_bar,'Std of SAT 3 years','Participation',None,1,decimal = 0)\n",
    "\n",
    "plt.tight_layout()"
   ]
  },
  {
   "cell_type": "markdown",
   "metadata": {},
   "source": [
    "**Comparison between 3 years of SAT**\n",
    "\n",
    "Mean of SAT \n",
    "- Doesn't change by year \n",
    "\n",
    "Std of SAT : \n",
    "- For participation != 1 Increase by year\n",
    "- For participation = 1 Decrease by year\n",
    "\n",
    "This is exactly the same trend as ACT. From this infomation, we can conclude that ACT and SAT can classify student in US to the same group."
   ]
  },
  {
   "cell_type": "markdown",
   "metadata": {},
   "source": [
    "### 3. High participation rate for both ACT and SAT\n",
    "The third part is analysis of the states that have high participation rate for both ACT and SAT. The state, have high participation rate for both ACT and SAT, is also good location for the school. This section will compare the score between this kind of state and the state from previous section."
   ]
  },
  {
   "cell_type": "code",
   "execution_count": 51,
   "metadata": {},
   "outputs": [],
   "source": [
    "# Filter both paticipation > 0.5 (2017) \n",
    "both_50_2017 = act_sat_2017[(act_sat_2017['participation_sat']>0.5) & (act_sat_2017['participation_act'] > 0.5)]\\\n",
    ".sort_values('participation_act',ascending = False)"
   ]
  },
  {
   "cell_type": "code",
   "execution_count": 52,
   "metadata": {},
   "outputs": [],
   "source": [
    "# Filter both paticipation > 0.5 (2018) \n",
    "both_50_2018 = act_sat_2018[(act_sat_2018['participation_sat']>0.5) & (act_sat_2018['participation_act'] > 0.5)]\\\n",
    ".sort_values('participation_act',ascending = False)"
   ]
  },
  {
   "cell_type": "code",
   "execution_count": 53,
   "metadata": {},
   "outputs": [],
   "source": [
    "# Filter both paticipation > 0.5 (2019) \n",
    "both_50_2019 = act_sat_2019[(act_sat_2019['participation_sat']>0.5) & (act_sat_2019['participation_act'] > 0.5)]\\\n",
    ".sort_values('participation_act',ascending = False)"
   ]
  },
  {
   "cell_type": "markdown",
   "metadata": {},
   "source": [
    "#### 5 State both participation rate of ACT and SAT greater than 50%\n",
    "In 2017 - 2019, there are 5 state that have both participation rate greater than 50%."
   ]
  },
  {
   "cell_type": "code",
   "execution_count": 54,
   "metadata": {},
   "outputs": [
    {
     "name": "stdout",
     "output_type": "stream",
     "text": [
      "1. North Carolina\n",
      "2. Georgia\n",
      "3. Florida\n",
      "4. South Carolina\n",
      "5. Hawaii\n"
     ]
    }
   ],
   "source": [
    "both50_3y = set(list(both_50_2017['state']) + list(both_50_2018['state']) + list(both_50_2019['state']))\n",
    "for i, state in enumerate(list(both50_3y)):\n",
    "    print(f'{i+1}. {state}')"
   ]
  },
  {
   "cell_type": "code",
   "execution_count": 55,
   "metadata": {},
   "outputs": [],
   "source": [
    "both_50_2017_T = both_50_2017.describe(percentiles = [0.5])[['participation_act','participation_sat','composite','total']].round(2).transpose()[['mean','std']]\n",
    "both_50_2018_T = both_50_2018.describe(percentiles = [0.5])[['participation_act','participation_sat','composite','total']].round(2).transpose()[['mean','std']]\n",
    "both_50_2019_T = both_50_2019.describe(percentiles = [0.5])[['participation_act','participation_sat','composite','total']].round(2).transpose()[['mean','std']]"
   ]
  },
  {
   "cell_type": "code",
   "execution_count": 56,
   "metadata": {},
   "outputs": [],
   "source": [
    "def mean_std_act_2(df_merge,year,both50):\n",
    "    mean = []\n",
    "    std = []\n",
    "    mean.append(df_merge[df_merge['participation_act'] != 1]['composite'].mean())\n",
    "    mean.append(df_merge[df_merge['participation_act'] == 1]['composite'].mean())\n",
    "    std.append(std_m(list(df_merge[df_merge['participation_act'] != 1]['composite'])))\n",
    "    std.append(std_m(list(df_merge[df_merge['participation_act'] == 1]['composite'])))\n",
    "    fig1, ax1 = plt.subplots(ncols = 2, figsize = (10,5))\n",
    "    mean_bar = sns.barplot(x = ['p != 1','p = 1'], y = [mean[0],mean[1]],ax = ax1[0],edgecolor = 'k');\n",
    "    ax1[0].hlines(y = both50['mean']['composite'],xmin = -0.75,xmax = 1.75,color = 'g',linestyles = 'dashed')\n",
    "    ax1[0].text(-0.2, both50['mean']['composite']+1,'Both > 0.5 mean = {:.2f}'.format(both50['mean']['composite']),\\\n",
    "                color = 'k',bbox=dict(facecolor='palegreen', edgecolor='k', pad=5))\n",
    "    ax1[0].set(ylim = (15,25))\n",
    "    label_chart(mean_bar,f'Mean of ACT {year}','Participation','Composite',0.1)\n",
    "    std_bar = sns.barplot(x = ['p != 1','p = 1'], y = [std[0],std[1]],ax = ax1[1],edgecolor = 'k');\n",
    "    ax1[1].hlines(y = both50['std']['composite'],xmin = -0.75,xmax = 1.75,\\\n",
    "                  color = 'g',label = both50['std']['composite'],linestyles = 'dashed')\n",
    "    ax1[1].text(-0.2, both50['std']['composite']+0.22,'Both > 0.5 ACT = {:.2f}'.format(both50['std']['composite']),\\\n",
    "                color = 'k',bbox=dict(facecolor='palegreen', edgecolor='k', pad=5))\n",
    "    label_chart(std_bar,f'Std of ACT {year}','Participation',None,0.01)\n",
    "    return"
   ]
  },
  {
   "cell_type": "code",
   "execution_count": 57,
   "metadata": {
    "scrolled": false
   },
   "outputs": [
    {
     "data": {
      "image/png": "[encoded data removed]",
      "text/plain": [
       "<Figure size 720x360 with 2 Axes>"
      ]
     },
     "metadata": {
      "needs_background": "light"
     },
     "output_type": "display_data"
    },
    {
     "data": {
      "image/png": "[encoded data removed]",
      "text/plain": [
       "<Figure size 720x360 with 2 Axes>"
      ]
     },
     "metadata": {
      "needs_background": "light"
     },
     "output_type": "display_data"
    },
    {
     "data": {
      "image/png": "[encoded data removed]",
      "text/plain": [
       "<Figure size 720x360 with 2 Axes>"
      ]
     },
     "metadata": {
      "needs_background": "light"
     },
     "output_type": "display_data"
    }
   ],
   "source": [
    "# Mean/std ACT score of the state that both participation > 50%\n",
    "mean_std_act_2(act_sat_2017,2017,both_50_2017_T);\n",
    "mean_std_act_2(act_sat_2018,2018,both_50_2018_T);\n",
    "mean_std_act_2(act_sat_2019,2019,both_50_2019_T);"
   ]
  },
  {
   "cell_type": "markdown",
   "metadata": {},
   "source": [
    "The student, have both participate rate of ACT and SAT greater than 50%, is nearly the student in the state that have ACT participation rate equal to 100%."
   ]
  },
  {
   "cell_type": "code",
   "execution_count": 58,
   "metadata": {},
   "outputs": [],
   "source": [
    "def mean_std_sat_2(df_merge,year,both50):\n",
    "    mean = []\n",
    "    std = []\n",
    "    mean.append(df_merge[df_merge['participation_sat'] != 1]['total'].mean())\n",
    "    mean.append(df_merge[df_merge['participation_sat'] == 1]['total'].mean())\n",
    "    std.append(std_m(list(df_merge[df_merge['participation_sat'] != 1]['total'])))\n",
    "    std.append(std_m(list(df_merge[df_merge['participation_sat'] == 1]['total'])))\n",
    "    fig1, ax1 = plt.subplots(ncols = 2, figsize = (10,5))\n",
    "    mean_bar = sns.barplot(x = ['p != 1','p = 1'], y = [mean[0],mean[1]],ax = ax1[0],edgecolor = 'k');\n",
    "    ax1[0].hlines(y = both50['mean']['total'],xmin = -0.75,xmax = 1.75,color = 'g',label = both50['mean']['total'],linestyles = 'dashed')\n",
    "    ax1[0].text(-0.2, both50['mean']['total']+20,'Both > 0.5 mean = {:.2f}'.format(both50['mean']['total']),color = 'k',bbox=dict(facecolor='palegreen', edgecolor='k', pad=5))\n",
    "    ax1[0].set(ylim=(800,1200))\n",
    "    label_chart(mean_bar,f'Mean of SAT {year}','Participation','Total',10,decimal = 0)\n",
    "    std_bar = sns.barplot(x = ['p != 1','p = 1'], y = [std[0],std[1]],ax = ax1[1],edgecolor = 'k');\n",
    "    ax1[1].hlines(y = both50['std']['total'],xmin = -0.75,xmax = 1.75,color = 'g',label = both50['std']['total'],linestyles = 'dashed')\n",
    "    ax1[1].text(-0.2, both50['std']['total']+5,'Both > 0.5 SAT = {:.2f}'.format(both50['std']['total']),color = 'k',bbox=dict(facecolor='palegreen', edgecolor='k', pad=5))\n",
    "    label_chart(std_bar,f'Std of SAT {year}','Participation',None,1,decimal = 0)\n",
    "    return"
   ]
  },
  {
   "cell_type": "code",
   "execution_count": 59,
   "metadata": {},
   "outputs": [
    {
     "data": {
      "image/png": "[encoded data removed]",
      "text/plain": [
       "<Figure size 720x360 with 2 Axes>"
      ]
     },
     "metadata": {
      "needs_background": "light"
     },
     "output_type": "display_data"
    },
    {
     "data": {
      "image/png": "[encoded data removed]",
      "text/plain": [
       "<Figure size 720x360 with 2 Axes>"
      ]
     },
     "metadata": {
      "needs_background": "light"
     },
     "output_type": "display_data"
    },
    {
     "data": {
      "image/png": "[encoded data removed]",
      "text/plain": [
       "<Figure size 720x360 with 2 Axes>"
      ]
     },
     "metadata": {
      "needs_background": "light"
     },
     "output_type": "display_data"
    }
   ],
   "source": [
    "# Mean/std SAT score of the state that both participation > 50%\n",
    "mean_std_sat_2(act_sat_2017,2017,both_50_2017_T);\n",
    "mean_std_sat_2(act_sat_2018,2018,both_50_2018_T);\n",
    "mean_std_sat_2(act_sat_2019,2019,both_50_2019_T);"
   ]
  },
  {
   "cell_type": "markdown",
   "metadata": {},
   "source": [
    "The student, have both participate rate of ACT and SAT greater than 50%, is above student in SAT 100% participation rate state."
   ]
  },
  {
   "cell_type": "markdown",
   "metadata": {},
   "source": [
    "### 4. Relation between score for each subject in ACT/SAT\n",
    "In this section, we will find the correlation between subject for ACT and SAT. We only analyze each subject for ACT 2017 because the data for each subject for ACT is available only in 2017. For SAT, we can analyze 3 years of the data."
   ]
  },
  {
   "cell_type": "code",
   "execution_count": 60,
   "metadata": {},
   "outputs": [
    {
     "data": {
      "image/png": "[encoded data removed]",
      "text/plain": [
       "<Figure size 864x576 with 2 Axes>"
      ]
     },
     "metadata": {
      "needs_background": "light"
     },
     "output_type": "display_data"
    }
   ],
   "source": [
    "# Correlation of ACT\n",
    "plt.figure(figsize=(12,8))\n",
    "mask = np.triu(np.ones_like(act_2017.corr(), dtype=bool)) # Upper triangle is True\n",
    "heatmap = sns.heatmap(act_2017.corr(),annot = True,cmap= 'RdBu',mask = mask, \\\n",
    "                      vmin = -1, vmax = 1, linewidths=.5,annot_kws={\"fontsize\":12});\n",
    "heatmap.set(title = f'ACT 2017 correlation');"
   ]
  },
  {
   "cell_type": "markdown",
   "metadata": {},
   "source": [
    "Conclusion from correlation between features in ACT 2017\n",
    "- Participation rate have high negative correlation with all subject in the test. This means the state with low participation rate will have higher score in all subject.\n",
    "- The correlation between composite and all subject is almost perfect positive correlation. The students trend to have high score in all subject if they have total high score.\n",
    "- The correlation between each subject is almost perfect positive correlation. The students trend to have high score in all subject if they have one high score subject."
   ]
  },
  {
   "cell_type": "code",
   "execution_count": 61,
   "metadata": {},
   "outputs": [],
   "source": [
    "def heatmap_sat_subject(df,year,ax =None,last = 0):\n",
    "    mask = np.triu(np.ones_like(df.corr(), dtype=bool)) # Upper triangle is True\n",
    "    if last == 1 :\n",
    "        heatmap = sns.heatmap(df.corr(),annot = True,cmap= 'RdBu',mask = mask, \\\n",
    "                    vmin = -1, vmax = 1, linewidths=.5,annot_kws={\"fontsize\":14},ax= ax);\n",
    "    else :\n",
    "        heatmap = sns.heatmap(df.corr(),annot = True,cmap= 'RdBu',mask = mask, \\\n",
    "                    vmin = -1, vmax = 1, linewidths=.5,annot_kws={\"fontsize\":14},cbar = False,ax= ax);\n",
    "    heatmap.set(title = f'SAT {year} correlation');"
   ]
  },
  {
   "cell_type": "code",
   "execution_count": 62,
   "metadata": {},
   "outputs": [
    {
     "data": {
      "image/png": "[encoded data removed]",
      "text/plain": [
       "<Figure size 1296x432 with 4 Axes>"
      ]
     },
     "metadata": {
      "needs_background": "light"
     },
     "output_type": "display_data"
    }
   ],
   "source": [
    "# Correlation of SAT\n",
    "fig4, ax4 = plt.subplots(ncols = 3,figsize = (18,6))\n",
    "heatmap_sat_subject(sat_2017,2017,ax = ax4[0])\n",
    "heatmap_sat_subject(sat_2018,2018,ax = ax4[1])\n",
    "heatmap_sat_subject(sat_2019,2019,ax = ax4[2],last = 1)\n",
    "plt.tight_layout()"
   ]
  },
  {
   "cell_type": "markdown",
   "metadata": {},
   "source": [
    "Conclusion from correlation between features in SAT 2017 - 2019\n",
    "- The correlation have the same trend as correlation between feature in ACT 2017.\n",
    "- Participation rate have high negative correlation with all subject in the test. This means the state with low participation rate will have higher score in all subject.\n",
    "- The correlation between composite and all subject is almost perfect positive correlation. The students trend to have high score in all subject if they have total high score.\n",
    "- The correlation between each subject is almost perfect positive correlation. The students trend to have high score in all subject if they have one high score subject.\n",
    "\n",
    "Since both ACT and SAT have the same trend of correlation, there is no difference between ACT and SAT in Math and reading part."
   ]
  },
  {
   "cell_type": "markdown",
   "metadata": {},
   "source": [
    "## Conclusions and Recommendations"
   ]
  },
  {
   "cell_type": "markdown",
   "metadata": {},
   "source": [
    "### Conclusion\n",
    "1. The state, that have high participation rate either SAT or ACT, trend to have low participation rate for the other test. \n",
    "2. For ACT/SAT 2017 - 2019, The state with 100% participation trend to have lower score than other state with lower participation rate.\n",
    "3. The student in state, that have both participation rate of ACT and SAT greater than 50%, is slightly above student in state that have 100% participation rate .\n",
    "4. Mean of ACT and SAT doesn't change that much in year 2017 - 2019.\n",
    "5. Std ACT/SAT score of the student in state, have 100% participation rate, is lower over year.\n",
    "6. The student that have high score trend to have high score in all subject. "
   ]
  },
  {
   "cell_type": "markdown",
   "metadata": {},
   "source": [
    "### Recommendation\n",
    "1. Recommendations tutor school location\n",
    "    - From data exploration part1 and part2 : There are [19 states](#19-states-with-100%-ACT-participation-rate-past-3-years) and [4 states](#4-states-with-100%-SAT-participation-rate-past-3-years) that have 100% participation rate of ACT and SAT respectively.\n",
    "    - From data exploration part3 : There are [5 states](#5-State-both-participation-rate-of-ACT-and-SAT-greater-than-50%) that have both participation rate of ACT and SAT greater than 50%.\n",
    "2. Recommendations for the next phase\n",
    "    - If possible : Collecting data in the specific state in the recommend location and analysis the data in the state for more information.\n",
    "    - Analysis about the state that require ACT/SAT and find more opportunity for locate the tutor school location."
   ]
  }
 ],
 "metadata": {
  "anaconda-cloud": {},
  "kernelspec": {
   "display_name": "Python 3 (ipykernel)",
   "language": "python",
   "name": "python3"
  },
  "language_info": {
   "codemirror_mode": {
    "name": "ipython",
    "version": 3
   },
   "file_extension": ".py",
   "mimetype": "text/x-python",
   "name": "python",
   "nbconvert_exporter": "python",
   "pygments_lexer": "ipython3",
   "version": "3.9.12"
  }
 },
 "nbformat": 4,
 "nbformat_minor": 4
}
